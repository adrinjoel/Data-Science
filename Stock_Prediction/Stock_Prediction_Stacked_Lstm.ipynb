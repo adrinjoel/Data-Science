{
  "nbformat": 4,
  "nbformat_minor": 0,
  "metadata": {
    "colab": {
      "provenance": [],
      "gpuType": "T4"
    },
    "kernelspec": {
      "name": "python3",
      "display_name": "Python 3"
    },
    "language_info": {
      "name": "python"
    },
    "accelerator": "GPU"
  },
  "cells": [
    {
      "cell_type": "markdown",
      "source": [
        "STOCK PREDICTION USING STACKED LSTM"
      ],
      "metadata": {
        "id": "8c-_g6cCWlb-"
      }
    },
    {
      "cell_type": "code",
      "execution_count": 33,
      "metadata": {
        "id": "y6r_y7IaTsqA"
      },
      "outputs": [],
      "source": [
        "import tensorflow as tf\n",
        "import pandas_datareader as pdr\n",
        "import pandas as pd\n",
        "import math\n",
        "import matplotlib.pyplot as plt\n",
        "import numpy as np\n",
        "from sklearn.preprocessing import MinMaxScaler\n",
        "from tensorflow.keras.models import Sequential\n",
        "from tensorflow.keras.layers import Dense\n",
        "from tensorflow.keras.layers import LSTM\n",
        "from numpy import array\n",
        "from sklearn.metrics import mean_squared_error"
      ]
    },
    {
      "cell_type": "code",
      "source": [
        "tf.test.gpu_device_name()"
      ],
      "metadata": {
        "colab": {
          "base_uri": "https://localhost:8080/",
          "height": 36
        },
        "id": "XHCaNlFHYXrm",
        "outputId": "c46fdf6e-6287-4fda-ef45-f83d875b5421"
      },
      "execution_count": 34,
      "outputs": [
        {
          "output_type": "execute_result",
          "data": {
            "text/plain": [
              "'/device:GPU:0'"
            ],
            "application/vnd.google.colaboratory.intrinsic+json": {
              "type": "string"
            }
          },
          "metadata": {},
          "execution_count": 34
        }
      ]
    },
    {
      "cell_type": "markdown",
      "source": [
        "DATA COLLECTION"
      ],
      "metadata": {
        "id": "7H5X9-GAWwFD"
      }
    },
    {
      "cell_type": "code",
      "source": [
        "key=\"917e8563913f716da22b9b62f8a06319e52effe6\""
      ],
      "metadata": {
        "id": "536MEirRYRDC"
      },
      "execution_count": 35,
      "outputs": []
    },
    {
      "cell_type": "code",
      "source": [
        "df = pdr.get_data_tiingo('AAPL', api_key=key)"
      ],
      "metadata": {
        "colab": {
          "base_uri": "https://localhost:8080/"
        },
        "id": "B_CeLQLbUNQa",
        "outputId": "f728f1a9-d814-4841-bb8e-982379acc6df"
      },
      "execution_count": 36,
      "outputs": [
        {
          "output_type": "stream",
          "name": "stderr",
          "text": [
            "<ipython-input-36-08157bf6935e>:1: FutureWarning: In a future version of pandas all arguments of concat except for the argument 'objs' will be keyword-only.\n",
            "  df = pdr.get_data_tiingo('AAPL', api_key=key)\n"
          ]
        }
      ]
    },
    {
      "cell_type": "code",
      "source": [
        "df.to_csv('AAPL.csv')"
      ],
      "metadata": {
        "id": "VyMyaG0PWGal"
      },
      "execution_count": 37,
      "outputs": []
    },
    {
      "cell_type": "code",
      "source": [
        "df=pd.read_csv('AAPL.csv')"
      ],
      "metadata": {
        "id": "wGne0v6dWLRY"
      },
      "execution_count": 38,
      "outputs": []
    },
    {
      "cell_type": "code",
      "source": [
        "df.head()"
      ],
      "metadata": {
        "colab": {
          "base_uri": "https://localhost:8080/",
          "height": 206
        },
        "id": "maWafoSwWLU1",
        "outputId": "fe9887ec-050f-49b3-9fd7-fa87fd6498e7"
      },
      "execution_count": 39,
      "outputs": [
        {
          "output_type": "execute_result",
          "data": {
            "text/plain": [
              "  symbol                       date   close    high     low    open    volume  \\\n",
              "0   AAPL  2018-11-12 00:00:00+00:00  194.17  199.85  193.79  199.00  51135518   \n",
              "1   AAPL  2018-11-13 00:00:00+00:00  192.23  197.18  191.45  191.63  46882936   \n",
              "2   AAPL  2018-11-14 00:00:00+00:00  186.80  194.48  185.93  193.90  60800957   \n",
              "3   AAPL  2018-11-15 00:00:00+00:00  191.41  191.97  186.90  188.39  46478801   \n",
              "4   AAPL  2018-11-16 00:00:00+00:00  193.53  194.97  189.46  190.50  36928253   \n",
              "\n",
              "    adjClose    adjHigh     adjLow    adjOpen  adjVolume  divCash  splitFactor  \n",
              "0  46.650144  48.014787  46.558847  47.810571  204542072      0.0          1.0  \n",
              "1  46.184051  47.373309  45.996653  46.039898  187531744      0.0          1.0  \n",
              "2  44.879471  46.724623  44.670450  46.585275  243203828      0.0          1.0  \n",
              "3  45.987043  46.121585  44.903496  45.261475  185915204      0.0          1.0  \n",
              "4  46.496381  46.842347  45.518547  45.768411  147713012      0.0          1.0  "
            ],
            "text/html": [
              "\n",
              "  <div id=\"df-55ed90a8-56c9-4d87-8ccd-b261636b6d31\" class=\"colab-df-container\">\n",
              "    <div>\n",
              "<style scoped>\n",
              "    .dataframe tbody tr th:only-of-type {\n",
              "        vertical-align: middle;\n",
              "    }\n",
              "\n",
              "    .dataframe tbody tr th {\n",
              "        vertical-align: top;\n",
              "    }\n",
              "\n",
              "    .dataframe thead th {\n",
              "        text-align: right;\n",
              "    }\n",
              "</style>\n",
              "<table border=\"1\" class=\"dataframe\">\n",
              "  <thead>\n",
              "    <tr style=\"text-align: right;\">\n",
              "      <th></th>\n",
              "      <th>symbol</th>\n",
              "      <th>date</th>\n",
              "      <th>close</th>\n",
              "      <th>high</th>\n",
              "      <th>low</th>\n",
              "      <th>open</th>\n",
              "      <th>volume</th>\n",
              "      <th>adjClose</th>\n",
              "      <th>adjHigh</th>\n",
              "      <th>adjLow</th>\n",
              "      <th>adjOpen</th>\n",
              "      <th>adjVolume</th>\n",
              "      <th>divCash</th>\n",
              "      <th>splitFactor</th>\n",
              "    </tr>\n",
              "  </thead>\n",
              "  <tbody>\n",
              "    <tr>\n",
              "      <th>0</th>\n",
              "      <td>AAPL</td>\n",
              "      <td>2018-11-12 00:00:00+00:00</td>\n",
              "      <td>194.17</td>\n",
              "      <td>199.85</td>\n",
              "      <td>193.79</td>\n",
              "      <td>199.00</td>\n",
              "      <td>51135518</td>\n",
              "      <td>46.650144</td>\n",
              "      <td>48.014787</td>\n",
              "      <td>46.558847</td>\n",
              "      <td>47.810571</td>\n",
              "      <td>204542072</td>\n",
              "      <td>0.0</td>\n",
              "      <td>1.0</td>\n",
              "    </tr>\n",
              "    <tr>\n",
              "      <th>1</th>\n",
              "      <td>AAPL</td>\n",
              "      <td>2018-11-13 00:00:00+00:00</td>\n",
              "      <td>192.23</td>\n",
              "      <td>197.18</td>\n",
              "      <td>191.45</td>\n",
              "      <td>191.63</td>\n",
              "      <td>46882936</td>\n",
              "      <td>46.184051</td>\n",
              "      <td>47.373309</td>\n",
              "      <td>45.996653</td>\n",
              "      <td>46.039898</td>\n",
              "      <td>187531744</td>\n",
              "      <td>0.0</td>\n",
              "      <td>1.0</td>\n",
              "    </tr>\n",
              "    <tr>\n",
              "      <th>2</th>\n",
              "      <td>AAPL</td>\n",
              "      <td>2018-11-14 00:00:00+00:00</td>\n",
              "      <td>186.80</td>\n",
              "      <td>194.48</td>\n",
              "      <td>185.93</td>\n",
              "      <td>193.90</td>\n",
              "      <td>60800957</td>\n",
              "      <td>44.879471</td>\n",
              "      <td>46.724623</td>\n",
              "      <td>44.670450</td>\n",
              "      <td>46.585275</td>\n",
              "      <td>243203828</td>\n",
              "      <td>0.0</td>\n",
              "      <td>1.0</td>\n",
              "    </tr>\n",
              "    <tr>\n",
              "      <th>3</th>\n",
              "      <td>AAPL</td>\n",
              "      <td>2018-11-15 00:00:00+00:00</td>\n",
              "      <td>191.41</td>\n",
              "      <td>191.97</td>\n",
              "      <td>186.90</td>\n",
              "      <td>188.39</td>\n",
              "      <td>46478801</td>\n",
              "      <td>45.987043</td>\n",
              "      <td>46.121585</td>\n",
              "      <td>44.903496</td>\n",
              "      <td>45.261475</td>\n",
              "      <td>185915204</td>\n",
              "      <td>0.0</td>\n",
              "      <td>1.0</td>\n",
              "    </tr>\n",
              "    <tr>\n",
              "      <th>4</th>\n",
              "      <td>AAPL</td>\n",
              "      <td>2018-11-16 00:00:00+00:00</td>\n",
              "      <td>193.53</td>\n",
              "      <td>194.97</td>\n",
              "      <td>189.46</td>\n",
              "      <td>190.50</td>\n",
              "      <td>36928253</td>\n",
              "      <td>46.496381</td>\n",
              "      <td>46.842347</td>\n",
              "      <td>45.518547</td>\n",
              "      <td>45.768411</td>\n",
              "      <td>147713012</td>\n",
              "      <td>0.0</td>\n",
              "      <td>1.0</td>\n",
              "    </tr>\n",
              "  </tbody>\n",
              "</table>\n",
              "</div>\n",
              "    <div class=\"colab-df-buttons\">\n",
              "\n",
              "  <div class=\"colab-df-container\">\n",
              "    <button class=\"colab-df-convert\" onclick=\"convertToInteractive('df-55ed90a8-56c9-4d87-8ccd-b261636b6d31')\"\n",
              "            title=\"Convert this dataframe to an interactive table.\"\n",
              "            style=\"display:none;\">\n",
              "\n",
              "  <svg xmlns=\"http://www.w3.org/2000/svg\" height=\"24px\" viewBox=\"0 -960 960 960\">\n",
              "    <path d=\"M120-120v-720h720v720H120Zm60-500h600v-160H180v160Zm220 220h160v-160H400v160Zm0 220h160v-160H400v160ZM180-400h160v-160H180v160Zm440 0h160v-160H620v160ZM180-180h160v-160H180v160Zm440 0h160v-160H620v160Z\"/>\n",
              "  </svg>\n",
              "    </button>\n",
              "\n",
              "  <style>\n",
              "    .colab-df-container {\n",
              "      display:flex;\n",
              "      gap: 12px;\n",
              "    }\n",
              "\n",
              "    .colab-df-convert {\n",
              "      background-color: #E8F0FE;\n",
              "      border: none;\n",
              "      border-radius: 50%;\n",
              "      cursor: pointer;\n",
              "      display: none;\n",
              "      fill: #1967D2;\n",
              "      height: 32px;\n",
              "      padding: 0 0 0 0;\n",
              "      width: 32px;\n",
              "    }\n",
              "\n",
              "    .colab-df-convert:hover {\n",
              "      background-color: #E2EBFA;\n",
              "      box-shadow: 0px 1px 2px rgba(60, 64, 67, 0.3), 0px 1px 3px 1px rgba(60, 64, 67, 0.15);\n",
              "      fill: #174EA6;\n",
              "    }\n",
              "\n",
              "    .colab-df-buttons div {\n",
              "      margin-bottom: 4px;\n",
              "    }\n",
              "\n",
              "    [theme=dark] .colab-df-convert {\n",
              "      background-color: #3B4455;\n",
              "      fill: #D2E3FC;\n",
              "    }\n",
              "\n",
              "    [theme=dark] .colab-df-convert:hover {\n",
              "      background-color: #434B5C;\n",
              "      box-shadow: 0px 1px 3px 1px rgba(0, 0, 0, 0.15);\n",
              "      filter: drop-shadow(0px 1px 2px rgba(0, 0, 0, 0.3));\n",
              "      fill: #FFFFFF;\n",
              "    }\n",
              "  </style>\n",
              "\n",
              "    <script>\n",
              "      const buttonEl =\n",
              "        document.querySelector('#df-55ed90a8-56c9-4d87-8ccd-b261636b6d31 button.colab-df-convert');\n",
              "      buttonEl.style.display =\n",
              "        google.colab.kernel.accessAllowed ? 'block' : 'none';\n",
              "\n",
              "      async function convertToInteractive(key) {\n",
              "        const element = document.querySelector('#df-55ed90a8-56c9-4d87-8ccd-b261636b6d31');\n",
              "        const dataTable =\n",
              "          await google.colab.kernel.invokeFunction('convertToInteractive',\n",
              "                                                    [key], {});\n",
              "        if (!dataTable) return;\n",
              "\n",
              "        const docLinkHtml = 'Like what you see? Visit the ' +\n",
              "          '<a target=\"_blank\" href=https://colab.research.google.com/notebooks/data_table.ipynb>data table notebook</a>'\n",
              "          + ' to learn more about interactive tables.';\n",
              "        element.innerHTML = '';\n",
              "        dataTable['output_type'] = 'display_data';\n",
              "        await google.colab.output.renderOutput(dataTable, element);\n",
              "        const docLink = document.createElement('div');\n",
              "        docLink.innerHTML = docLinkHtml;\n",
              "        element.appendChild(docLink);\n",
              "      }\n",
              "    </script>\n",
              "  </div>\n",
              "\n",
              "\n",
              "<div id=\"df-d6892ca4-3784-417e-a92a-424e737baee8\">\n",
              "  <button class=\"colab-df-quickchart\" onclick=\"quickchart('df-d6892ca4-3784-417e-a92a-424e737baee8')\"\n",
              "            title=\"Suggest charts\"\n",
              "            style=\"display:none;\">\n",
              "\n",
              "<svg xmlns=\"http://www.w3.org/2000/svg\" height=\"24px\"viewBox=\"0 0 24 24\"\n",
              "     width=\"24px\">\n",
              "    <g>\n",
              "        <path d=\"M19 3H5c-1.1 0-2 .9-2 2v14c0 1.1.9 2 2 2h14c1.1 0 2-.9 2-2V5c0-1.1-.9-2-2-2zM9 17H7v-7h2v7zm4 0h-2V7h2v10zm4 0h-2v-4h2v4z\"/>\n",
              "    </g>\n",
              "</svg>\n",
              "  </button>\n",
              "\n",
              "<style>\n",
              "  .colab-df-quickchart {\n",
              "      --bg-color: #E8F0FE;\n",
              "      --fill-color: #1967D2;\n",
              "      --hover-bg-color: #E2EBFA;\n",
              "      --hover-fill-color: #174EA6;\n",
              "      --disabled-fill-color: #AAA;\n",
              "      --disabled-bg-color: #DDD;\n",
              "  }\n",
              "\n",
              "  [theme=dark] .colab-df-quickchart {\n",
              "      --bg-color: #3B4455;\n",
              "      --fill-color: #D2E3FC;\n",
              "      --hover-bg-color: #434B5C;\n",
              "      --hover-fill-color: #FFFFFF;\n",
              "      --disabled-bg-color: #3B4455;\n",
              "      --disabled-fill-color: #666;\n",
              "  }\n",
              "\n",
              "  .colab-df-quickchart {\n",
              "    background-color: var(--bg-color);\n",
              "    border: none;\n",
              "    border-radius: 50%;\n",
              "    cursor: pointer;\n",
              "    display: none;\n",
              "    fill: var(--fill-color);\n",
              "    height: 32px;\n",
              "    padding: 0;\n",
              "    width: 32px;\n",
              "  }\n",
              "\n",
              "  .colab-df-quickchart:hover {\n",
              "    background-color: var(--hover-bg-color);\n",
              "    box-shadow: 0 1px 2px rgba(60, 64, 67, 0.3), 0 1px 3px 1px rgba(60, 64, 67, 0.15);\n",
              "    fill: var(--button-hover-fill-color);\n",
              "  }\n",
              "\n",
              "  .colab-df-quickchart-complete:disabled,\n",
              "  .colab-df-quickchart-complete:disabled:hover {\n",
              "    background-color: var(--disabled-bg-color);\n",
              "    fill: var(--disabled-fill-color);\n",
              "    box-shadow: none;\n",
              "  }\n",
              "\n",
              "  .colab-df-spinner {\n",
              "    border: 2px solid var(--fill-color);\n",
              "    border-color: transparent;\n",
              "    border-bottom-color: var(--fill-color);\n",
              "    animation:\n",
              "      spin 1s steps(1) infinite;\n",
              "  }\n",
              "\n",
              "  @keyframes spin {\n",
              "    0% {\n",
              "      border-color: transparent;\n",
              "      border-bottom-color: var(--fill-color);\n",
              "      border-left-color: var(--fill-color);\n",
              "    }\n",
              "    20% {\n",
              "      border-color: transparent;\n",
              "      border-left-color: var(--fill-color);\n",
              "      border-top-color: var(--fill-color);\n",
              "    }\n",
              "    30% {\n",
              "      border-color: transparent;\n",
              "      border-left-color: var(--fill-color);\n",
              "      border-top-color: var(--fill-color);\n",
              "      border-right-color: var(--fill-color);\n",
              "    }\n",
              "    40% {\n",
              "      border-color: transparent;\n",
              "      border-right-color: var(--fill-color);\n",
              "      border-top-color: var(--fill-color);\n",
              "    }\n",
              "    60% {\n",
              "      border-color: transparent;\n",
              "      border-right-color: var(--fill-color);\n",
              "    }\n",
              "    80% {\n",
              "      border-color: transparent;\n",
              "      border-right-color: var(--fill-color);\n",
              "      border-bottom-color: var(--fill-color);\n",
              "    }\n",
              "    90% {\n",
              "      border-color: transparent;\n",
              "      border-bottom-color: var(--fill-color);\n",
              "    }\n",
              "  }\n",
              "</style>\n",
              "\n",
              "  <script>\n",
              "    async function quickchart(key) {\n",
              "      const quickchartButtonEl =\n",
              "        document.querySelector('#' + key + ' button');\n",
              "      quickchartButtonEl.disabled = true;  // To prevent multiple clicks.\n",
              "      quickchartButtonEl.classList.add('colab-df-spinner');\n",
              "      try {\n",
              "        const charts = await google.colab.kernel.invokeFunction(\n",
              "            'suggestCharts', [key], {});\n",
              "      } catch (error) {\n",
              "        console.error('Error during call to suggestCharts:', error);\n",
              "      }\n",
              "      quickchartButtonEl.classList.remove('colab-df-spinner');\n",
              "      quickchartButtonEl.classList.add('colab-df-quickchart-complete');\n",
              "    }\n",
              "    (() => {\n",
              "      let quickchartButtonEl =\n",
              "        document.querySelector('#df-d6892ca4-3784-417e-a92a-424e737baee8 button');\n",
              "      quickchartButtonEl.style.display =\n",
              "        google.colab.kernel.accessAllowed ? 'block' : 'none';\n",
              "    })();\n",
              "  </script>\n",
              "</div>\n",
              "    </div>\n",
              "  </div>\n"
            ]
          },
          "metadata": {},
          "execution_count": 39
        }
      ]
    },
    {
      "cell_type": "code",
      "source": [
        "df1=df.reset_index()['close']"
      ],
      "metadata": {
        "id": "8PnYJxtDWLXp"
      },
      "execution_count": 40,
      "outputs": []
    },
    {
      "cell_type": "markdown",
      "source": [
        "PREPROCESSING"
      ],
      "metadata": {
        "id": "QcQRzqMQXg9R"
      }
    },
    {
      "cell_type": "code",
      "source": [
        "scaler=MinMaxScaler(feature_range=(0,1))\n",
        "df1=scaler.fit_transform(np.array(df1).reshape(-1,1))"
      ],
      "metadata": {
        "id": "RoYDCVv_Wbd-"
      },
      "execution_count": 41,
      "outputs": []
    },
    {
      "cell_type": "code",
      "source": [
        "training_size=int(len(df1)*0.65)\n",
        "test_size=len(df1)-training_size\n",
        "train_data,test_data=df1[0:training_size,:],df1[training_size:len(df1),:1]"
      ],
      "metadata": {
        "id": "9qhIaE4pWlUU"
      },
      "execution_count": 42,
      "outputs": []
    },
    {
      "cell_type": "code",
      "source": [
        "training_size,test_size"
      ],
      "metadata": {
        "colab": {
          "base_uri": "https://localhost:8080/"
        },
        "id": "pjKmuJSBWlX8",
        "outputId": "0cc6e031-07ac-49dc-9059-ad206366f9f6"
      },
      "execution_count": 43,
      "outputs": [
        {
          "output_type": "execute_result",
          "data": {
            "text/plain": [
              "(816, 440)"
            ]
          },
          "metadata": {},
          "execution_count": 43
        }
      ]
    },
    {
      "cell_type": "code",
      "source": [
        "def create_dataset(dataset, time_step=1):\n",
        "\tdataX, dataY = [], []\n",
        "\tfor i in range(len(dataset)-time_step-1):\n",
        "\t\ta = dataset[i:(i+time_step), 0]\n",
        "\t\tdataX.append(a)\n",
        "\t\tdataY.append(dataset[i + time_step, 0])\n",
        "\treturn np.array(dataX), np.array(dataY)"
      ],
      "metadata": {
        "id": "soFfiYhqWla2"
      },
      "execution_count": 44,
      "outputs": []
    },
    {
      "cell_type": "code",
      "source": [
        "time_step = 100\n",
        "x_train, y_train = create_dataset(train_data, time_step)\n",
        "x_test, y_test = create_dataset(test_data, time_step)"
      ],
      "metadata": {
        "id": "DIDoEva0Wldd"
      },
      "execution_count": 45,
      "outputs": []
    },
    {
      "cell_type": "code",
      "source": [
        "print(x_train.shape), print(y_train.shape)"
      ],
      "metadata": {
        "colab": {
          "base_uri": "https://localhost:8080/"
        },
        "id": "FbA4OsjPWlgW",
        "outputId": "8bc8ec91-226c-45d6-a1a9-beffa293ca26"
      },
      "execution_count": 46,
      "outputs": [
        {
          "output_type": "stream",
          "name": "stdout",
          "text": [
            "(715, 100)\n",
            "(715,)\n"
          ]
        },
        {
          "output_type": "execute_result",
          "data": {
            "text/plain": [
              "(None, None)"
            ]
          },
          "metadata": {},
          "execution_count": 46
        }
      ]
    },
    {
      "cell_type": "code",
      "source": [
        "print(x_test.shape), print(y_test.shape)"
      ],
      "metadata": {
        "colab": {
          "base_uri": "https://localhost:8080/"
        },
        "id": "gDr9KrBxWljG",
        "outputId": "a2a8a89f-fc7e-4f03-dcba-cda23ee9d7e0"
      },
      "execution_count": 47,
      "outputs": [
        {
          "output_type": "stream",
          "name": "stdout",
          "text": [
            "(339, 100)\n",
            "(339,)\n"
          ]
        },
        {
          "output_type": "execute_result",
          "data": {
            "text/plain": [
              "(None, None)"
            ]
          },
          "metadata": {},
          "execution_count": 47
        }
      ]
    },
    {
      "cell_type": "code",
      "source": [
        "x_train =x_train.reshape(x_train.shape[0], x_train.shape[1] , 1)\n",
        "x_test = x_test.reshape(x_test.shape[0],x_test.shape[1], 1)"
      ],
      "metadata": {
        "id": "9IHiMT1nW-vv"
      },
      "execution_count": 48,
      "outputs": []
    },
    {
      "cell_type": "markdown",
      "source": [
        "STACKED LSTM MODEL"
      ],
      "metadata": {
        "id": "b6Lp_iC4X4tI"
      }
    },
    {
      "cell_type": "code",
      "source": [
        "model=Sequential()\n",
        "model.add(LSTM(50,return_sequences=True,input_shape=(100,1)))\n",
        "model.add(LSTM(50,return_sequences=True))\n",
        "model.add(LSTM(50))\n",
        "model.add(Dense(1))\n",
        "model.compile(loss='mean_squared_error',optimizer='adam')"
      ],
      "metadata": {
        "id": "1grTFz-UW-2D"
      },
      "execution_count": 49,
      "outputs": []
    },
    {
      "cell_type": "code",
      "source": [
        "model.summary()"
      ],
      "metadata": {
        "colab": {
          "base_uri": "https://localhost:8080/"
        },
        "id": "fbTFnYb8XFYK",
        "outputId": "082089eb-dba3-45ab-8cf3-cfa336082ba2"
      },
      "execution_count": 50,
      "outputs": [
        {
          "output_type": "stream",
          "name": "stdout",
          "text": [
            "Model: \"sequential_1\"\n",
            "_________________________________________________________________\n",
            " Layer (type)                Output Shape              Param #   \n",
            "=================================================================\n",
            " lstm_3 (LSTM)               (None, 100, 50)           10400     \n",
            "                                                                 \n",
            " lstm_4 (LSTM)               (None, 100, 50)           20200     \n",
            "                                                                 \n",
            " lstm_5 (LSTM)               (None, 50)                20200     \n",
            "                                                                 \n",
            " dense_1 (Dense)             (None, 1)                 51        \n",
            "                                                                 \n",
            "=================================================================\n",
            "Total params: 50851 (198.64 KB)\n",
            "Trainable params: 50851 (198.64 KB)\n",
            "Non-trainable params: 0 (0.00 Byte)\n",
            "_________________________________________________________________\n"
          ]
        }
      ]
    },
    {
      "cell_type": "code",
      "source": [
        "model.fit(x_train,y_train,validation_data=(x_test,y_test),epochs=100,batch_size=6)"
      ],
      "metadata": {
        "colab": {
          "base_uri": "https://localhost:8080/"
        },
        "id": "tHB5jRRaXFa4",
        "outputId": "deb6cdc4-f9ff-4f08-b1fa-43d89488dbe8"
      },
      "execution_count": 51,
      "outputs": [
        {
          "output_type": "stream",
          "name": "stdout",
          "text": [
            "Epoch 1/100\n",
            "120/120 [==============================] - 10s 24ms/step - loss: 0.0118 - val_loss: 0.0014\n",
            "Epoch 2/100\n",
            "120/120 [==============================] - 2s 15ms/step - loss: 0.0075 - val_loss: 5.2808e-04\n",
            "Epoch 3/100\n",
            "120/120 [==============================] - 2s 15ms/step - loss: 0.0051 - val_loss: 2.6821e-04\n",
            "Epoch 4/100\n",
            "120/120 [==============================] - 3s 22ms/step - loss: 0.0051 - val_loss: 0.0019\n",
            "Epoch 5/100\n",
            "120/120 [==============================] - 2s 17ms/step - loss: 0.0050 - val_loss: 2.0181e-04\n",
            "Epoch 6/100\n",
            "120/120 [==============================] - 2s 19ms/step - loss: 0.0037 - val_loss: 1.5903e-04\n",
            "Epoch 7/100\n",
            "120/120 [==============================] - 3s 25ms/step - loss: 0.0033 - val_loss: 1.8216e-04\n",
            "Epoch 8/100\n",
            "120/120 [==============================] - 2s 19ms/step - loss: 0.0030 - val_loss: 6.9319e-04\n",
            "Epoch 9/100\n",
            "120/120 [==============================] - 3s 21ms/step - loss: 0.0032 - val_loss: 2.7974e-04\n",
            "Epoch 10/100\n",
            "120/120 [==============================] - 2s 18ms/step - loss: 0.0021 - val_loss: 2.6051e-04\n",
            "Epoch 11/100\n",
            "120/120 [==============================] - 2s 19ms/step - loss: 0.0033 - val_loss: 1.9256e-04\n",
            "Epoch 12/100\n",
            "120/120 [==============================] - 2s 15ms/step - loss: 0.0020 - val_loss: 1.4509e-04\n",
            "Epoch 13/100\n",
            "120/120 [==============================] - 3s 21ms/step - loss: 0.0020 - val_loss: 5.8104e-04\n",
            "Epoch 14/100\n",
            "120/120 [==============================] - 2s 17ms/step - loss: 0.0020 - val_loss: 3.7755e-04\n",
            "Epoch 15/100\n",
            "120/120 [==============================] - 2s 21ms/step - loss: 0.0023 - val_loss: 0.0049\n",
            "Epoch 16/100\n",
            "120/120 [==============================] - 2s 18ms/step - loss: 0.0021 - val_loss: 7.6718e-04\n",
            "Epoch 17/100\n",
            "120/120 [==============================] - 3s 22ms/step - loss: 0.0018 - val_loss: 1.0773e-04\n",
            "Epoch 18/100\n",
            "120/120 [==============================] - 2s 15ms/step - loss: 0.0021 - val_loss: 1.0186e-04\n",
            "Epoch 19/100\n",
            "120/120 [==============================] - 3s 21ms/step - loss: 0.0017 - val_loss: 9.8767e-05\n",
            "Epoch 20/100\n",
            "120/120 [==============================] - 3s 21ms/step - loss: 0.0018 - val_loss: 4.2315e-04\n",
            "Epoch 21/100\n",
            "120/120 [==============================] - 3s 23ms/step - loss: 0.0016 - val_loss: 1.7383e-04\n",
            "Epoch 22/100\n",
            "120/120 [==============================] - 3s 21ms/step - loss: 0.0017 - val_loss: 1.0327e-04\n",
            "Epoch 23/100\n",
            "120/120 [==============================] - 2s 15ms/step - loss: 0.0014 - val_loss: 1.1141e-04\n",
            "Epoch 24/100\n",
            "120/120 [==============================] - 2s 15ms/step - loss: 0.0019 - val_loss: 1.0085e-04\n",
            "Epoch 25/100\n",
            "120/120 [==============================] - 2s 15ms/step - loss: 0.0015 - val_loss: 1.0890e-04\n",
            "Epoch 26/100\n",
            "120/120 [==============================] - 2s 20ms/step - loss: 0.0015 - val_loss: 0.0018\n",
            "Epoch 27/100\n",
            "120/120 [==============================] - 2s 16ms/step - loss: 0.0015 - val_loss: 1.0068e-04\n",
            "Epoch 28/100\n",
            "120/120 [==============================] - 2s 16ms/step - loss: 0.0020 - val_loss: 1.2235e-04\n",
            "Epoch 29/100\n",
            "120/120 [==============================] - 2s 15ms/step - loss: 0.0017 - val_loss: 4.9490e-04\n",
            "Epoch 30/100\n",
            "120/120 [==============================] - 2s 18ms/step - loss: 0.0014 - val_loss: 9.0867e-05\n",
            "Epoch 31/100\n",
            "120/120 [==============================] - 3s 22ms/step - loss: 0.0014 - val_loss: 1.7595e-04\n",
            "Epoch 32/100\n",
            "120/120 [==============================] - 2s 19ms/step - loss: 0.0013 - val_loss: 1.0939e-04\n",
            "Epoch 33/100\n",
            "120/120 [==============================] - 2s 16ms/step - loss: 0.0020 - val_loss: 9.8289e-05\n",
            "Epoch 34/100\n",
            "120/120 [==============================] - 2s 18ms/step - loss: 0.0016 - val_loss: 9.5158e-05\n",
            "Epoch 35/100\n",
            "120/120 [==============================] - 3s 25ms/step - loss: 0.0015 - val_loss: 1.0367e-04\n",
            "Epoch 36/100\n",
            "120/120 [==============================] - 3s 26ms/step - loss: 0.0015 - val_loss: 1.4195e-04\n",
            "Epoch 37/100\n",
            "120/120 [==============================] - 3s 24ms/step - loss: 0.0015 - val_loss: 1.6153e-04\n",
            "Epoch 38/100\n",
            "120/120 [==============================] - 2s 15ms/step - loss: 0.0016 - val_loss: 3.2285e-04\n",
            "Epoch 39/100\n",
            "120/120 [==============================] - 2s 15ms/step - loss: 0.0014 - val_loss: 1.5868e-04\n",
            "Epoch 40/100\n",
            "120/120 [==============================] - 2s 16ms/step - loss: 0.0017 - val_loss: 8.3661e-05\n",
            "Epoch 41/100\n",
            "120/120 [==============================] - 2s 18ms/step - loss: 0.0016 - val_loss: 2.1268e-04\n",
            "Epoch 42/100\n",
            "120/120 [==============================] - 3s 28ms/step - loss: 0.0014 - val_loss: 1.3654e-04\n",
            "Epoch 43/100\n",
            "120/120 [==============================] - 2s 16ms/step - loss: 0.0015 - val_loss: 9.5843e-05\n",
            "Epoch 44/100\n",
            "120/120 [==============================] - 3s 22ms/step - loss: 0.0020 - val_loss: 1.3629e-04\n",
            "Epoch 45/100\n",
            "120/120 [==============================] - 2s 15ms/step - loss: 0.0017 - val_loss: 1.1878e-04\n",
            "Epoch 46/100\n",
            "120/120 [==============================] - 2s 15ms/step - loss: 0.0016 - val_loss: 2.4433e-04\n",
            "Epoch 47/100\n",
            "120/120 [==============================] - 2s 16ms/step - loss: 0.0016 - val_loss: 4.5703e-04\n",
            "Epoch 48/100\n",
            "120/120 [==============================] - 2s 21ms/step - loss: 0.0014 - val_loss: 1.2669e-04\n",
            "Epoch 49/100\n",
            "120/120 [==============================] - 3s 22ms/step - loss: 0.0015 - val_loss: 1.0161e-04\n",
            "Epoch 50/100\n",
            "120/120 [==============================] - 2s 16ms/step - loss: 0.0015 - val_loss: 9.4473e-05\n",
            "Epoch 51/100\n",
            "120/120 [==============================] - 2s 16ms/step - loss: 0.0014 - val_loss: 2.3562e-04\n",
            "Epoch 52/100\n",
            "120/120 [==============================] - 3s 21ms/step - loss: 0.0012 - val_loss: 1.3079e-04\n",
            "Epoch 53/100\n",
            "120/120 [==============================] - 3s 24ms/step - loss: 0.0012 - val_loss: 1.9879e-04\n",
            "Epoch 54/100\n",
            "120/120 [==============================] - 2s 21ms/step - loss: 0.0021 - val_loss: 0.0011\n",
            "Epoch 55/100\n",
            "120/120 [==============================] - 2s 19ms/step - loss: 0.0018 - val_loss: 7.5776e-05\n",
            "Epoch 56/100\n",
            "120/120 [==============================] - 2s 16ms/step - loss: 0.0015 - val_loss: 2.0622e-04\n",
            "Epoch 57/100\n",
            "120/120 [==============================] - 2s 16ms/step - loss: 0.0014 - val_loss: 7.9120e-05\n",
            "Epoch 58/100\n",
            "120/120 [==============================] - 2s 15ms/step - loss: 0.0013 - val_loss: 1.7687e-04\n",
            "Epoch 59/100\n",
            "120/120 [==============================] - 3s 21ms/step - loss: 0.0014 - val_loss: 7.6758e-05\n",
            "Epoch 60/100\n",
            "120/120 [==============================] - 2s 16ms/step - loss: 0.0012 - val_loss: 1.8655e-04\n",
            "Epoch 61/100\n",
            "120/120 [==============================] - 2s 19ms/step - loss: 0.0014 - val_loss: 1.2638e-04\n",
            "Epoch 62/100\n",
            "120/120 [==============================] - 2s 16ms/step - loss: 0.0012 - val_loss: 9.0434e-05\n",
            "Epoch 63/100\n",
            "120/120 [==============================] - 2s 18ms/step - loss: 0.0013 - val_loss: 2.3328e-04\n",
            "Epoch 64/100\n",
            "120/120 [==============================] - 2s 18ms/step - loss: 0.0016 - val_loss: 1.3171e-04\n",
            "Epoch 65/100\n",
            "120/120 [==============================] - 2s 19ms/step - loss: 0.0015 - val_loss: 3.8290e-04\n",
            "Epoch 66/100\n",
            "120/120 [==============================] - 2s 16ms/step - loss: 0.0014 - val_loss: 9.3460e-05\n",
            "Epoch 67/100\n",
            "120/120 [==============================] - 3s 26ms/step - loss: 0.0015 - val_loss: 8.2439e-05\n",
            "Epoch 68/100\n",
            "120/120 [==============================] - 2s 19ms/step - loss: 0.0014 - val_loss: 3.1916e-04\n",
            "Epoch 69/100\n",
            "120/120 [==============================] - 4s 30ms/step - loss: 0.0014 - val_loss: 1.0928e-04\n",
            "Epoch 70/100\n",
            "120/120 [==============================] - 2s 18ms/step - loss: 0.0014 - val_loss: 2.1935e-04\n",
            "Epoch 71/100\n",
            "120/120 [==============================] - 2s 18ms/step - loss: 0.0015 - val_loss: 1.1653e-04\n",
            "Epoch 72/100\n",
            "120/120 [==============================] - 2s 15ms/step - loss: 0.0014 - val_loss: 7.4068e-05\n",
            "Epoch 73/100\n",
            "120/120 [==============================] - 2s 16ms/step - loss: 0.0014 - val_loss: 3.2066e-04\n",
            "Epoch 74/100\n",
            "120/120 [==============================] - 2s 15ms/step - loss: 0.0014 - val_loss: 1.0671e-04\n",
            "Epoch 75/100\n",
            "120/120 [==============================] - 2s 18ms/step - loss: 0.0012 - val_loss: 1.4212e-04\n",
            "Epoch 76/100\n",
            "120/120 [==============================] - 2s 18ms/step - loss: 0.0015 - val_loss: 7.1851e-05\n",
            "Epoch 77/100\n",
            "120/120 [==============================] - 2s 15ms/step - loss: 0.0014 - val_loss: 1.5138e-04\n",
            "Epoch 78/100\n",
            "120/120 [==============================] - 2s 15ms/step - loss: 0.0013 - val_loss: 7.3679e-05\n",
            "Epoch 79/100\n",
            "120/120 [==============================] - 2s 15ms/step - loss: 0.0013 - val_loss: 7.9429e-05\n",
            "Epoch 80/100\n",
            "120/120 [==============================] - 2s 15ms/step - loss: 0.0013 - val_loss: 1.9932e-04\n",
            "Epoch 81/100\n",
            "120/120 [==============================] - 2s 16ms/step - loss: 0.0013 - val_loss: 7.4573e-05\n",
            "Epoch 82/100\n",
            "120/120 [==============================] - 3s 23ms/step - loss: 0.0013 - val_loss: 1.2129e-04\n",
            "Epoch 83/100\n",
            "120/120 [==============================] - 2s 15ms/step - loss: 0.0011 - val_loss: 7.9596e-05\n",
            "Epoch 84/100\n",
            "120/120 [==============================] - 2s 15ms/step - loss: 0.0014 - val_loss: 7.3394e-05\n",
            "Epoch 85/100\n",
            "120/120 [==============================] - 2s 15ms/step - loss: 0.0014 - val_loss: 7.1733e-05\n",
            "Epoch 86/100\n",
            "120/120 [==============================] - 2s 15ms/step - loss: 0.0016 - val_loss: 1.2755e-04\n",
            "Epoch 87/100\n",
            "120/120 [==============================] - 2s 15ms/step - loss: 0.0012 - val_loss: 8.6063e-05\n",
            "Epoch 88/100\n",
            "120/120 [==============================] - 2s 20ms/step - loss: 0.0014 - val_loss: 9.3737e-05\n",
            "Epoch 89/100\n",
            "120/120 [==============================] - 2s 15ms/step - loss: 0.0013 - val_loss: 1.0166e-04\n",
            "Epoch 90/100\n",
            "120/120 [==============================] - 2s 19ms/step - loss: 0.0012 - val_loss: 3.1866e-04\n",
            "Epoch 91/100\n",
            "120/120 [==============================] - 2s 15ms/step - loss: 0.0012 - val_loss: 8.4424e-05\n",
            "Epoch 92/100\n",
            "120/120 [==============================] - 2s 15ms/step - loss: 0.0010 - val_loss: 1.2687e-04\n",
            "Epoch 93/100\n",
            "120/120 [==============================] - 2s 15ms/step - loss: 0.0016 - val_loss: 9.1353e-05\n",
            "Epoch 94/100\n",
            "120/120 [==============================] - 2s 21ms/step - loss: 0.0012 - val_loss: 1.2545e-04\n",
            "Epoch 95/100\n",
            "120/120 [==============================] - 2s 16ms/step - loss: 0.0014 - val_loss: 7.5696e-05\n",
            "Epoch 96/100\n",
            "120/120 [==============================] - 2s 15ms/step - loss: 0.0012 - val_loss: 9.5971e-05\n",
            "Epoch 97/100\n",
            "120/120 [==============================] - 2s 16ms/step - loss: 0.0013 - val_loss: 6.9494e-05\n",
            "Epoch 98/100\n",
            "120/120 [==============================] - 2s 19ms/step - loss: 0.0013 - val_loss: 9.4265e-05\n",
            "Epoch 99/100\n",
            "120/120 [==============================] - 2s 16ms/step - loss: 0.0014 - val_loss: 9.8507e-05\n",
            "Epoch 100/100\n",
            "120/120 [==============================] - 3s 22ms/step - loss: 0.0012 - val_loss: 8.9903e-05\n"
          ]
        },
        {
          "output_type": "execute_result",
          "data": {
            "text/plain": [
              "<keras.src.callbacks.History at 0x7e8b8c19cac0>"
            ]
          },
          "metadata": {},
          "execution_count": 51
        }
      ]
    },
    {
      "cell_type": "code",
      "source": [
        "train_predict=model.predict(x_train)\n",
        "test_predict=model.predict(x_test)"
      ],
      "metadata": {
        "id": "-Ol3A1eMXFdg",
        "colab": {
          "base_uri": "https://localhost:8080/"
        },
        "outputId": "235c7af5-42af-4742-ada6-266dd1989e46"
      },
      "execution_count": 52,
      "outputs": [
        {
          "output_type": "stream",
          "name": "stdout",
          "text": [
            "23/23 [==============================] - 1s 9ms/step\n",
            "11/11 [==============================] - 0s 6ms/step\n"
          ]
        }
      ]
    },
    {
      "cell_type": "code",
      "source": [
        "train_predict=scaler.inverse_transform(train_predict)\n",
        "test_predict=scaler.inverse_transform(test_predict)"
      ],
      "metadata": {
        "id": "rfoT-ajEXVA1"
      },
      "execution_count": 53,
      "outputs": []
    },
    {
      "cell_type": "code",
      "source": [
        "math.sqrt(mean_squared_error(y_train,train_predict))"
      ],
      "metadata": {
        "colab": {
          "base_uri": "https://localhost:8080/"
        },
        "id": "PY3F32OaXVDx",
        "outputId": "c89bb18c-ab22-4324-c170-4397a890a898"
      },
      "execution_count": 54,
      "outputs": [
        {
          "output_type": "execute_result",
          "data": {
            "text/plain": [
              "218.49975855793983"
            ]
          },
          "metadata": {},
          "execution_count": 54
        }
      ]
    },
    {
      "cell_type": "code",
      "source": [
        "math.sqrt(mean_squared_error(y_test,test_predict))"
      ],
      "metadata": {
        "colab": {
          "base_uri": "https://localhost:8080/"
        },
        "id": "uItsgi75XVGv",
        "outputId": "71b73b30-29b7-44be-b505-b7e2d2611005"
      },
      "execution_count": 55,
      "outputs": [
        {
          "output_type": "execute_result",
          "data": {
            "text/plain": [
              "161.06479238475862"
            ]
          },
          "metadata": {},
          "execution_count": 55
        }
      ]
    },
    {
      "cell_type": "markdown",
      "source": [
        "PLOTTING OF TRAINING DATA AND TESTING DATA PREDICTION"
      ],
      "metadata": {
        "id": "SQkOIUwCZJJA"
      }
    },
    {
      "cell_type": "code",
      "source": [
        "# shift train predictions for plotting\n",
        "look_back=100\n",
        "trainPredictPlot = np.empty_like(df1)\n",
        "trainPredictPlot[:, :] = np.nan\n",
        "trainPredictPlot[look_back:len(train_predict)+look_back, :] = train_predict\n",
        "# shift test predictions for plotting\n",
        "testPredictPlot = np.empty_like(df1)\n",
        "testPredictPlot[:, :] = np.nan\n",
        "testPredictPlot[len(train_predict)+(look_back*2)+1:len(df1)-1, :] = test_predict\n",
        "# plot baseline and predictions\n",
        "plt.plot(scaler.inverse_transform(df1))\n",
        "plt.plot(trainPredictPlot)\n",
        "plt.plot(testPredictPlot)\n",
        "plt.show()"
      ],
      "metadata": {
        "colab": {
          "base_uri": "https://localhost:8080/",
          "height": 430
        },
        "id": "RYf3tWgFXV1c",
        "outputId": "08b97560-e3c5-4667-cc94-7c06c2e7fa6d"
      },
      "execution_count": 56,
      "outputs": [
        {
          "output_type": "display_data",
          "data": {
            "text/plain": [
              "<Figure size 640x480 with 1 Axes>"
            ],
            "image/png": "[encoded data removed]"
          },
          "metadata": {}
        }
      ]
    },
    {
      "cell_type": "markdown",
      "source": [
        "STOCK FORECASTING - FUTURE 30 DAYS"
      ],
      "metadata": {
        "id": "jZcXZtracRpD"
      }
    },
    {
      "cell_type": "code",
      "source": [
        "len(test_data)"
      ],
      "metadata": {
        "colab": {
          "base_uri": "https://localhost:8080/"
        },
        "id": "iZ9g1vL4baqV",
        "outputId": "c9923794-81d6-4648-b3c4-ef31b189669e"
      },
      "execution_count": 59,
      "outputs": [
        {
          "output_type": "execute_result",
          "data": {
            "text/plain": [
              "440"
            ]
          },
          "metadata": {},
          "execution_count": 59
        }
      ]
    },
    {
      "cell_type": "code",
      "source": [
        "x_input=test_data[340:].reshape(1,-1)\n",
        "x_input.shape"
      ],
      "metadata": {
        "colab": {
          "base_uri": "https://localhost:8080/"
        },
        "id": "m7JYVQomXfx1",
        "outputId": "5da37368-9e19-418b-dc4b-3ba6984c7c2a"
      },
      "execution_count": 60,
      "outputs": [
        {
          "output_type": "execute_result",
          "data": {
            "text/plain": [
              "(1, 100)"
            ]
          },
          "metadata": {},
          "execution_count": 60
        }
      ]
    },
    {
      "cell_type": "code",
      "source": [
        "temp_input=list(x_input)\n",
        "temp_input=temp_input[0].tolist()"
      ],
      "metadata": {
        "id": "fqrlYcT5Xf01"
      },
      "execution_count": 61,
      "outputs": []
    },
    {
      "cell_type": "code",
      "source": [
        "list_output=[]\n",
        "n_steps=100\n",
        "i=0\n",
        "while(i<30):\n",
        "    if(len(temp_input)>100):\n",
        "        #print(temp_input)\n",
        "        x_input=np.array(temp_input[1:])\n",
        "        print(\"{} day input {}\".format(i,x_input))\n",
        "        x_input=x_input.reshape(1,-1)\n",
        "        x_input = x_input.reshape((1, n_steps, 1))\n",
        "        #print(x_input)\n",
        "        yhat = model.predict(x_input, verbose=0)\n",
        "        print(\"{} day output {}\".format(i,yhat))\n",
        "        temp_input.extend(yhat[0].tolist())\n",
        "        temp_input=temp_input[1:]\n",
        "        #print(temp_input)\n",
        "        list_output.extend(yhat.tolist())\n",
        "        i=i+1\n",
        "    else:\n",
        "        x_input = x_input.reshape((1, n_steps,1))\n",
        "        yhat = model.predict(x_input, verbose=0)\n",
        "        print(yhat[0])\n",
        "        temp_input.extend(yhat[0].tolist())\n",
        "        print(len(temp_input))\n",
        "        list_output.extend(yhat.tolist())\n",
        "        i=i+1\n",
        "print(list_output)"
      ],
      "metadata": {
        "colab": {
          "base_uri": "https://localhost:8080/"
        },
        "id": "rCpuyf6-Xf32",
        "outputId": "6ca25de1-2fae-4e61-a2ce-8b5eb5755620"
      },
      "execution_count": 66,
      "outputs": [
        {
          "output_type": "stream",
          "name": "stdout",
          "text": [
            "0 day input [0.17257358 0.17074515 0.17815905 0.18091421 0.1719474  0.16804008\n",
            " 0.17019411 0.17342517 0.16310582 0.15927364 0.15992486 0.1612273\n",
            " 0.16758923 0.16420789 0.16736381 0.17049468 0.17695679 0.18071384\n",
            " 0.17921102 0.18274264 0.18502192 0.18036318 0.18003757 0.1761052\n",
            " 0.17282405 0.17187226 0.16541014 0.16571071 0.16681277 0.16095178\n",
            " 0.15040701 0.15373826 0.15892298 0.16012523 0.16814026 0.17715717\n",
            " 0.17485285 0.18131497 0.18780213 0.19048215 0.17880584 0.17541391\n",
            " 0.17109491 0.16702974 0.16344279 0.16032678 0.15760127 0.15515913\n",
            " 0.15289368 0.15071499 0.14855802 0.14638469 0.14418152 0.14195451\n",
            " 0.13972244 0.13751028 0.13534352 0.13324402 0.13122773 0.12930396\n",
            " 0.12747595 0.12574193 0.12409683 0.1225336  0.12104461 0.11962241\n",
            " 0.11826044 0.11695322 0.11569646 0.11448681 0.11332185 0.11219966\n",
            " 0.11111881 0.11007797 0.10907599 0.10811167 0.10718381 0.10629117\n",
            " 0.10543251 0.10460654 0.10381204 0.10304777 0.10231259 0.10160542\n",
            " 0.10092517 0.10027086 0.09964156 0.09903639 0.09845445 0.09789494\n",
            " 0.09735704 0.09683998 0.096343   0.09586536 0.09540632 0.09496524\n",
            " 0.0945414  0.09413414 0.09374286 0.09336691]\n",
            "0 day output [[0.09300571]]\n",
            "1 day input [0.17074515 0.17815905 0.18091421 0.1719474  0.16804008 0.17019411\n",
            " 0.17342517 0.16310582 0.15927364 0.15992486 0.1612273  0.16758923\n",
            " 0.16420789 0.16736381 0.17049468 0.17695679 0.18071384 0.17921102\n",
            " 0.18274264 0.18502192 0.18036318 0.18003757 0.1761052  0.17282405\n",
            " 0.17187226 0.16541014 0.16571071 0.16681277 0.16095178 0.15040701\n",
            " 0.15373826 0.15892298 0.16012523 0.16814026 0.17715717 0.17485285\n",
            " 0.18131497 0.18780213 0.19048215 0.17880584 0.17541391 0.17109491\n",
            " 0.16702974 0.16344279 0.16032678 0.15760127 0.15515913 0.15289368\n",
            " 0.15071499 0.14855802 0.14638469 0.14418152 0.14195451 0.13972244\n",
            " 0.13751028 0.13534352 0.13324402 0.13122773 0.12930396 0.12747595\n",
            " 0.12574193 0.12409683 0.1225336  0.12104461 0.11962241 0.11826044\n",
            " 0.11695322 0.11569646 0.11448681 0.11332185 0.11219966 0.11111881\n",
            " 0.11007797 0.10907599 0.10811167 0.10718381 0.10629117 0.10543251\n",
            " 0.10460654 0.10381204 0.10304777 0.10231259 0.10160542 0.10092517\n",
            " 0.10027086 0.09964156 0.09903639 0.09845445 0.09789494 0.09735704\n",
            " 0.09683998 0.096343   0.09586536 0.09540632 0.09496524 0.0945414\n",
            " 0.09413414 0.09374286 0.09336691 0.09300571]\n",
            "1 day output [[0.09265869]]\n",
            "2 day input [0.17815905 0.18091421 0.1719474  0.16804008 0.17019411 0.17342517\n",
            " 0.16310582 0.15927364 0.15992486 0.1612273  0.16758923 0.16420789\n",
            " 0.16736381 0.17049468 0.17695679 0.18071384 0.17921102 0.18274264\n",
            " 0.18502192 0.18036318 0.18003757 0.1761052  0.17282405 0.17187226\n",
            " 0.16541014 0.16571071 0.16681277 0.16095178 0.15040701 0.15373826\n",
            " 0.15892298 0.16012523 0.16814026 0.17715717 0.17485285 0.18131497\n",
            " 0.18780213 0.19048215 0.17880584 0.17541391 0.17109491 0.16702974\n",
            " 0.16344279 0.16032678 0.15760127 0.15515913 0.15289368 0.15071499\n",
            " 0.14855802 0.14638469 0.14418152 0.14195451 0.13972244 0.13751028\n",
            " 0.13534352 0.13324402 0.13122773 0.12930396 0.12747595 0.12574193\n",
            " 0.12409683 0.1225336  0.12104461 0.11962241 0.11826044 0.11695322\n",
            " 0.11569646 0.11448681 0.11332185 0.11219966 0.11111881 0.11007797\n",
            " 0.10907599 0.10811167 0.10718381 0.10629117 0.10543251 0.10460654\n",
            " 0.10381204 0.10304777 0.10231259 0.10160542 0.10092517 0.10027086\n",
            " 0.09964156 0.09903639 0.09845445 0.09789494 0.09735704 0.09683998\n",
            " 0.096343   0.09586536 0.09540632 0.09496524 0.0945414  0.09413414\n",
            " 0.09374286 0.09336691 0.09300571 0.09265869]\n",
            "2 day output [[0.09232531]]\n",
            "3 day input [0.18091421 0.1719474  0.16804008 0.17019411 0.17342517 0.16310582\n",
            " 0.15927364 0.15992486 0.1612273  0.16758923 0.16420789 0.16736381\n",
            " 0.17049468 0.17695679 0.18071384 0.17921102 0.18274264 0.18502192\n",
            " 0.18036318 0.18003757 0.1761052  0.17282405 0.17187226 0.16541014\n",
            " 0.16571071 0.16681277 0.16095178 0.15040701 0.15373826 0.15892298\n",
            " 0.16012523 0.16814026 0.17715717 0.17485285 0.18131497 0.18780213\n",
            " 0.19048215 0.17880584 0.17541391 0.17109491 0.16702974 0.16344279\n",
            " 0.16032678 0.15760127 0.15515913 0.15289368 0.15071499 0.14855802\n",
            " 0.14638469 0.14418152 0.14195451 0.13972244 0.13751028 0.13534352\n",
            " 0.13324402 0.13122773 0.12930396 0.12747595 0.12574193 0.12409683\n",
            " 0.1225336  0.12104461 0.11962241 0.11826044 0.11695322 0.11569646\n",
            " 0.11448681 0.11332185 0.11219966 0.11111881 0.11007797 0.10907599\n",
            " 0.10811167 0.10718381 0.10629117 0.10543251 0.10460654 0.10381204\n",
            " 0.10304777 0.10231259 0.10160542 0.10092517 0.10027086 0.09964156\n",
            " 0.09903639 0.09845445 0.09789494 0.09735704 0.09683998 0.096343\n",
            " 0.09586536 0.09540632 0.09496524 0.0945414  0.09413414 0.09374286\n",
            " 0.09336691 0.09300571 0.09265869 0.09232531]\n",
            "3 day output [[0.09200504]]\n",
            "4 day input [0.1719474  0.16804008 0.17019411 0.17342517 0.16310582 0.15927364\n",
            " 0.15992486 0.1612273  0.16758923 0.16420789 0.16736381 0.17049468\n",
            " 0.17695679 0.18071384 0.17921102 0.18274264 0.18502192 0.18036318\n",
            " 0.18003757 0.1761052  0.17282405 0.17187226 0.16541014 0.16571071\n",
            " 0.16681277 0.16095178 0.15040701 0.15373826 0.15892298 0.16012523\n",
            " 0.16814026 0.17715717 0.17485285 0.18131497 0.18780213 0.19048215\n",
            " 0.17880584 0.17541391 0.17109491 0.16702974 0.16344279 0.16032678\n",
            " 0.15760127 0.15515913 0.15289368 0.15071499 0.14855802 0.14638469\n",
            " 0.14418152 0.14195451 0.13972244 0.13751028 0.13534352 0.13324402\n",
            " 0.13122773 0.12930396 0.12747595 0.12574193 0.12409683 0.1225336\n",
            " 0.12104461 0.11962241 0.11826044 0.11695322 0.11569646 0.11448681\n",
            " 0.11332185 0.11219966 0.11111881 0.11007797 0.10907599 0.10811167\n",
            " 0.10718381 0.10629117 0.10543251 0.10460654 0.10381204 0.10304777\n",
            " 0.10231259 0.10160542 0.10092517 0.10027086 0.09964156 0.09903639\n",
            " 0.09845445 0.09789494 0.09735704 0.09683998 0.096343   0.09586536\n",
            " 0.09540632 0.09496524 0.0945414  0.09413414 0.09374286 0.09336691\n",
            " 0.09300571 0.09265869 0.09232531 0.09200504]\n",
            "4 day output [[0.09169736]]\n",
            "5 day input [0.16804008 0.17019411 0.17342517 0.16310582 0.15927364 0.15992486\n",
            " 0.1612273  0.16758923 0.16420789 0.16736381 0.17049468 0.17695679\n",
            " 0.18071384 0.17921102 0.18274264 0.18502192 0.18036318 0.18003757\n",
            " 0.1761052  0.17282405 0.17187226 0.16541014 0.16571071 0.16681277\n",
            " 0.16095178 0.15040701 0.15373826 0.15892298 0.16012523 0.16814026\n",
            " 0.17715717 0.17485285 0.18131497 0.18780213 0.19048215 0.17880584\n",
            " 0.17541391 0.17109491 0.16702974 0.16344279 0.16032678 0.15760127\n",
            " 0.15515913 0.15289368 0.15071499 0.14855802 0.14638469 0.14418152\n",
            " 0.14195451 0.13972244 0.13751028 0.13534352 0.13324402 0.13122773\n",
            " 0.12930396 0.12747595 0.12574193 0.12409683 0.1225336  0.12104461\n",
            " 0.11962241 0.11826044 0.11695322 0.11569646 0.11448681 0.11332185\n",
            " 0.11219966 0.11111881 0.11007797 0.10907599 0.10811167 0.10718381\n",
            " 0.10629117 0.10543251 0.10460654 0.10381204 0.10304777 0.10231259\n",
            " 0.10160542 0.10092517 0.10027086 0.09964156 0.09903639 0.09845445\n",
            " 0.09789494 0.09735704 0.09683998 0.096343   0.09586536 0.09540632\n",
            " 0.09496524 0.0945414  0.09413414 0.09374286 0.09336691 0.09300571\n",
            " 0.09265869 0.09232531 0.09200504 0.09169736]\n",
            "5 day output [[0.0914018]]\n",
            "6 day input [0.17019411 0.17342517 0.16310582 0.15927364 0.15992486 0.1612273\n",
            " 0.16758923 0.16420789 0.16736381 0.17049468 0.17695679 0.18071384\n",
            " 0.17921102 0.18274264 0.18502192 0.18036318 0.18003757 0.1761052\n",
            " 0.17282405 0.17187226 0.16541014 0.16571071 0.16681277 0.16095178\n",
            " 0.15040701 0.15373826 0.15892298 0.16012523 0.16814026 0.17715717\n",
            " 0.17485285 0.18131497 0.18780213 0.19048215 0.17880584 0.17541391\n",
            " 0.17109491 0.16702974 0.16344279 0.16032678 0.15760127 0.15515913\n",
            " 0.15289368 0.15071499 0.14855802 0.14638469 0.14418152 0.14195451\n",
            " 0.13972244 0.13751028 0.13534352 0.13324402 0.13122773 0.12930396\n",
            " 0.12747595 0.12574193 0.12409683 0.1225336  0.12104461 0.11962241\n",
            " 0.11826044 0.11695322 0.11569646 0.11448681 0.11332185 0.11219966\n",
            " 0.11111881 0.11007797 0.10907599 0.10811167 0.10718381 0.10629117\n",
            " 0.10543251 0.10460654 0.10381204 0.10304777 0.10231259 0.10160542\n",
            " 0.10092517 0.10027086 0.09964156 0.09903639 0.09845445 0.09789494\n",
            " 0.09735704 0.09683998 0.096343   0.09586536 0.09540632 0.09496524\n",
            " 0.0945414  0.09413414 0.09374286 0.09336691 0.09300571 0.09265869\n",
            " 0.09232531 0.09200504 0.09169736 0.0914018 ]\n",
            "6 day output [[0.09111786]]\n",
            "7 day input [0.17342517 0.16310582 0.15927364 0.15992486 0.1612273  0.16758923\n",
            " 0.16420789 0.16736381 0.17049468 0.17695679 0.18071384 0.17921102\n",
            " 0.18274264 0.18502192 0.18036318 0.18003757 0.1761052  0.17282405\n",
            " 0.17187226 0.16541014 0.16571071 0.16681277 0.16095178 0.15040701\n",
            " 0.15373826 0.15892298 0.16012523 0.16814026 0.17715717 0.17485285\n",
            " 0.18131497 0.18780213 0.19048215 0.17880584 0.17541391 0.17109491\n",
            " 0.16702974 0.16344279 0.16032678 0.15760127 0.15515913 0.15289368\n",
            " 0.15071499 0.14855802 0.14638469 0.14418152 0.14195451 0.13972244\n",
            " 0.13751028 0.13534352 0.13324402 0.13122773 0.12930396 0.12747595\n",
            " 0.12574193 0.12409683 0.1225336  0.12104461 0.11962241 0.11826044\n",
            " 0.11695322 0.11569646 0.11448681 0.11332185 0.11219966 0.11111881\n",
            " 0.11007797 0.10907599 0.10811167 0.10718381 0.10629117 0.10543251\n",
            " 0.10460654 0.10381204 0.10304777 0.10231259 0.10160542 0.10092517\n",
            " 0.10027086 0.09964156 0.09903639 0.09845445 0.09789494 0.09735704\n",
            " 0.09683998 0.096343   0.09586536 0.09540632 0.09496524 0.0945414\n",
            " 0.09413414 0.09374286 0.09336691 0.09300571 0.09265869 0.09232531\n",
            " 0.09200504 0.09169736 0.0914018  0.09111786]\n",
            "7 day output [[0.09084512]]\n",
            "8 day input [0.16310582 0.15927364 0.15992486 0.1612273  0.16758923 0.16420789\n",
            " 0.16736381 0.17049468 0.17695679 0.18071384 0.17921102 0.18274264\n",
            " 0.18502192 0.18036318 0.18003757 0.1761052  0.17282405 0.17187226\n",
            " 0.16541014 0.16571071 0.16681277 0.16095178 0.15040701 0.15373826\n",
            " 0.15892298 0.16012523 0.16814026 0.17715717 0.17485285 0.18131497\n",
            " 0.18780213 0.19048215 0.17880584 0.17541391 0.17109491 0.16702974\n",
            " 0.16344279 0.16032678 0.15760127 0.15515913 0.15289368 0.15071499\n",
            " 0.14855802 0.14638469 0.14418152 0.14195451 0.13972244 0.13751028\n",
            " 0.13534352 0.13324402 0.13122773 0.12930396 0.12747595 0.12574193\n",
            " 0.12409683 0.1225336  0.12104461 0.11962241 0.11826044 0.11695322\n",
            " 0.11569646 0.11448681 0.11332185 0.11219966 0.11111881 0.11007797\n",
            " 0.10907599 0.10811167 0.10718381 0.10629117 0.10543251 0.10460654\n",
            " 0.10381204 0.10304777 0.10231259 0.10160542 0.10092517 0.10027086\n",
            " 0.09964156 0.09903639 0.09845445 0.09789494 0.09735704 0.09683998\n",
            " 0.096343   0.09586536 0.09540632 0.09496524 0.0945414  0.09413414\n",
            " 0.09374286 0.09336691 0.09300571 0.09265869 0.09232531 0.09200504\n",
            " 0.09169736 0.0914018  0.09111786 0.09084512]\n",
            "8 day output [[0.09058315]]\n",
            "9 day input [0.15927364 0.15992486 0.1612273  0.16758923 0.16420789 0.16736381\n",
            " 0.17049468 0.17695679 0.18071384 0.17921102 0.18274264 0.18502192\n",
            " 0.18036318 0.18003757 0.1761052  0.17282405 0.17187226 0.16541014\n",
            " 0.16571071 0.16681277 0.16095178 0.15040701 0.15373826 0.15892298\n",
            " 0.16012523 0.16814026 0.17715717 0.17485285 0.18131497 0.18780213\n",
            " 0.19048215 0.17880584 0.17541391 0.17109491 0.16702974 0.16344279\n",
            " 0.16032678 0.15760127 0.15515913 0.15289368 0.15071499 0.14855802\n",
            " 0.14638469 0.14418152 0.14195451 0.13972244 0.13751028 0.13534352\n",
            " 0.13324402 0.13122773 0.12930396 0.12747595 0.12574193 0.12409683\n",
            " 0.1225336  0.12104461 0.11962241 0.11826044 0.11695322 0.11569646\n",
            " 0.11448681 0.11332185 0.11219966 0.11111881 0.11007797 0.10907599\n",
            " 0.10811167 0.10718381 0.10629117 0.10543251 0.10460654 0.10381204\n",
            " 0.10304777 0.10231259 0.10160542 0.10092517 0.10027086 0.09964156\n",
            " 0.09903639 0.09845445 0.09789494 0.09735704 0.09683998 0.096343\n",
            " 0.09586536 0.09540632 0.09496524 0.0945414  0.09413414 0.09374286\n",
            " 0.09336691 0.09300571 0.09265869 0.09232531 0.09200504 0.09169736\n",
            " 0.0914018  0.09111786 0.09084512 0.09058315]\n",
            "9 day output [[0.09033148]]\n",
            "10 day input [0.15992486 0.1612273  0.16758923 0.16420789 0.16736381 0.17049468\n",
            " 0.17695679 0.18071384 0.17921102 0.18274264 0.18502192 0.18036318\n",
            " 0.18003757 0.1761052  0.17282405 0.17187226 0.16541014 0.16571071\n",
            " 0.16681277 0.16095178 0.15040701 0.15373826 0.15892298 0.16012523\n",
            " 0.16814026 0.17715717 0.17485285 0.18131497 0.18780213 0.19048215\n",
            " 0.17880584 0.17541391 0.17109491 0.16702974 0.16344279 0.16032678\n",
            " 0.15760127 0.15515913 0.15289368 0.15071499 0.14855802 0.14638469\n",
            " 0.14418152 0.14195451 0.13972244 0.13751028 0.13534352 0.13324402\n",
            " 0.13122773 0.12930396 0.12747595 0.12574193 0.12409683 0.1225336\n",
            " 0.12104461 0.11962241 0.11826044 0.11695322 0.11569646 0.11448681\n",
            " 0.11332185 0.11219966 0.11111881 0.11007797 0.10907599 0.10811167\n",
            " 0.10718381 0.10629117 0.10543251 0.10460654 0.10381204 0.10304777\n",
            " 0.10231259 0.10160542 0.10092517 0.10027086 0.09964156 0.09903639\n",
            " 0.09845445 0.09789494 0.09735704 0.09683998 0.096343   0.09586536\n",
            " 0.09540632 0.09496524 0.0945414  0.09413414 0.09374286 0.09336691\n",
            " 0.09300571 0.09265869 0.09232531 0.09200504 0.09169736 0.0914018\n",
            " 0.09111786 0.09084512 0.09058315 0.09033148]\n",
            "10 day output [[0.09008975]]\n",
            "11 day input [0.1612273  0.16758923 0.16420789 0.16736381 0.17049468 0.17695679\n",
            " 0.18071384 0.17921102 0.18274264 0.18502192 0.18036318 0.18003757\n",
            " 0.1761052  0.17282405 0.17187226 0.16541014 0.16571071 0.16681277\n",
            " 0.16095178 0.15040701 0.15373826 0.15892298 0.16012523 0.16814026\n",
            " 0.17715717 0.17485285 0.18131497 0.18780213 0.19048215 0.17880584\n",
            " 0.17541391 0.17109491 0.16702974 0.16344279 0.16032678 0.15760127\n",
            " 0.15515913 0.15289368 0.15071499 0.14855802 0.14638469 0.14418152\n",
            " 0.14195451 0.13972244 0.13751028 0.13534352 0.13324402 0.13122773\n",
            " 0.12930396 0.12747595 0.12574193 0.12409683 0.1225336  0.12104461\n",
            " 0.11962241 0.11826044 0.11695322 0.11569646 0.11448681 0.11332185\n",
            " 0.11219966 0.11111881 0.11007797 0.10907599 0.10811167 0.10718381\n",
            " 0.10629117 0.10543251 0.10460654 0.10381204 0.10304777 0.10231259\n",
            " 0.10160542 0.10092517 0.10027086 0.09964156 0.09903639 0.09845445\n",
            " 0.09789494 0.09735704 0.09683998 0.096343   0.09586536 0.09540632\n",
            " 0.09496524 0.0945414  0.09413414 0.09374286 0.09336691 0.09300571\n",
            " 0.09265869 0.09232531 0.09200504 0.09169736 0.0914018  0.09111786\n",
            " 0.09084512 0.09058315 0.09033148 0.09008975]\n",
            "11 day output [[0.08985758]]\n",
            "12 day input [0.16758923 0.16420789 0.16736381 0.17049468 0.17695679 0.18071384\n",
            " 0.17921102 0.18274264 0.18502192 0.18036318 0.18003757 0.1761052\n",
            " 0.17282405 0.17187226 0.16541014 0.16571071 0.16681277 0.16095178\n",
            " 0.15040701 0.15373826 0.15892298 0.16012523 0.16814026 0.17715717\n",
            " 0.17485285 0.18131497 0.18780213 0.19048215 0.17880584 0.17541391\n",
            " 0.17109491 0.16702974 0.16344279 0.16032678 0.15760127 0.15515913\n",
            " 0.15289368 0.15071499 0.14855802 0.14638469 0.14418152 0.14195451\n",
            " 0.13972244 0.13751028 0.13534352 0.13324402 0.13122773 0.12930396\n",
            " 0.12747595 0.12574193 0.12409683 0.1225336  0.12104461 0.11962241\n",
            " 0.11826044 0.11695322 0.11569646 0.11448681 0.11332185 0.11219966\n",
            " 0.11111881 0.11007797 0.10907599 0.10811167 0.10718381 0.10629117\n",
            " 0.10543251 0.10460654 0.10381204 0.10304777 0.10231259 0.10160542\n",
            " 0.10092517 0.10027086 0.09964156 0.09903639 0.09845445 0.09789494\n",
            " 0.09735704 0.09683998 0.096343   0.09586536 0.09540632 0.09496524\n",
            " 0.0945414  0.09413414 0.09374286 0.09336691 0.09300571 0.09265869\n",
            " 0.09232531 0.09200504 0.09169736 0.0914018  0.09111786 0.09084512\n",
            " 0.09058315 0.09033148 0.09008975 0.08985758]\n",
            "12 day output [[0.08963455]]\n",
            "13 day input [0.16420789 0.16736381 0.17049468 0.17695679 0.18071384 0.17921102\n",
            " 0.18274264 0.18502192 0.18036318 0.18003757 0.1761052  0.17282405\n",
            " 0.17187226 0.16541014 0.16571071 0.16681277 0.16095178 0.15040701\n",
            " 0.15373826 0.15892298 0.16012523 0.16814026 0.17715717 0.17485285\n",
            " 0.18131497 0.18780213 0.19048215 0.17880584 0.17541391 0.17109491\n",
            " 0.16702974 0.16344279 0.16032678 0.15760127 0.15515913 0.15289368\n",
            " 0.15071499 0.14855802 0.14638469 0.14418152 0.14195451 0.13972244\n",
            " 0.13751028 0.13534352 0.13324402 0.13122773 0.12930396 0.12747595\n",
            " 0.12574193 0.12409683 0.1225336  0.12104461 0.11962241 0.11826044\n",
            " 0.11695322 0.11569646 0.11448681 0.11332185 0.11219966 0.11111881\n",
            " 0.11007797 0.10907599 0.10811167 0.10718381 0.10629117 0.10543251\n",
            " 0.10460654 0.10381204 0.10304777 0.10231259 0.10160542 0.10092517\n",
            " 0.10027086 0.09964156 0.09903639 0.09845445 0.09789494 0.09735704\n",
            " 0.09683998 0.096343   0.09586536 0.09540632 0.09496524 0.0945414\n",
            " 0.09413414 0.09374286 0.09336691 0.09300571 0.09265869 0.09232531\n",
            " 0.09200504 0.09169736 0.0914018  0.09111786 0.09084512 0.09058315\n",
            " 0.09033148 0.09008975 0.08985758 0.08963455]\n",
            "13 day output [[0.08942035]]\n",
            "14 day input [0.16736381 0.17049468 0.17695679 0.18071384 0.17921102 0.18274264\n",
            " 0.18502192 0.18036318 0.18003757 0.1761052  0.17282405 0.17187226\n",
            " 0.16541014 0.16571071 0.16681277 0.16095178 0.15040701 0.15373826\n",
            " 0.15892298 0.16012523 0.16814026 0.17715717 0.17485285 0.18131497\n",
            " 0.18780213 0.19048215 0.17880584 0.17541391 0.17109491 0.16702974\n",
            " 0.16344279 0.16032678 0.15760127 0.15515913 0.15289368 0.15071499\n",
            " 0.14855802 0.14638469 0.14418152 0.14195451 0.13972244 0.13751028\n",
            " 0.13534352 0.13324402 0.13122773 0.12930396 0.12747595 0.12574193\n",
            " 0.12409683 0.1225336  0.12104461 0.11962241 0.11826044 0.11695322\n",
            " 0.11569646 0.11448681 0.11332185 0.11219966 0.11111881 0.11007797\n",
            " 0.10907599 0.10811167 0.10718381 0.10629117 0.10543251 0.10460654\n",
            " 0.10381204 0.10304777 0.10231259 0.10160542 0.10092517 0.10027086\n",
            " 0.09964156 0.09903639 0.09845445 0.09789494 0.09735704 0.09683998\n",
            " 0.096343   0.09586536 0.09540632 0.09496524 0.0945414  0.09413414\n",
            " 0.09374286 0.09336691 0.09300571 0.09265869 0.09232531 0.09200504\n",
            " 0.09169736 0.0914018  0.09111786 0.09084512 0.09058315 0.09033148\n",
            " 0.09008975 0.08985758 0.08963455 0.08942035]\n",
            "14 day output [[0.08921462]]\n",
            "15 day input [0.17049468 0.17695679 0.18071384 0.17921102 0.18274264 0.18502192\n",
            " 0.18036318 0.18003757 0.1761052  0.17282405 0.17187226 0.16541014\n",
            " 0.16571071 0.16681277 0.16095178 0.15040701 0.15373826 0.15892298\n",
            " 0.16012523 0.16814026 0.17715717 0.17485285 0.18131497 0.18780213\n",
            " 0.19048215 0.17880584 0.17541391 0.17109491 0.16702974 0.16344279\n",
            " 0.16032678 0.15760127 0.15515913 0.15289368 0.15071499 0.14855802\n",
            " 0.14638469 0.14418152 0.14195451 0.13972244 0.13751028 0.13534352\n",
            " 0.13324402 0.13122773 0.12930396 0.12747595 0.12574193 0.12409683\n",
            " 0.1225336  0.12104461 0.11962241 0.11826044 0.11695322 0.11569646\n",
            " 0.11448681 0.11332185 0.11219966 0.11111881 0.11007797 0.10907599\n",
            " 0.10811167 0.10718381 0.10629117 0.10543251 0.10460654 0.10381204\n",
            " 0.10304777 0.10231259 0.10160542 0.10092517 0.10027086 0.09964156\n",
            " 0.09903639 0.09845445 0.09789494 0.09735704 0.09683998 0.096343\n",
            " 0.09586536 0.09540632 0.09496524 0.0945414  0.09413414 0.09374286\n",
            " 0.09336691 0.09300571 0.09265869 0.09232531 0.09200504 0.09169736\n",
            " 0.0914018  0.09111786 0.09084512 0.09058315 0.09033148 0.09008975\n",
            " 0.08985758 0.08963455 0.08942035 0.08921462]\n",
            "15 day output [[0.089017]]\n",
            "16 day input [0.17695679 0.18071384 0.17921102 0.18274264 0.18502192 0.18036318\n",
            " 0.18003757 0.1761052  0.17282405 0.17187226 0.16541014 0.16571071\n",
            " 0.16681277 0.16095178 0.15040701 0.15373826 0.15892298 0.16012523\n",
            " 0.16814026 0.17715717 0.17485285 0.18131497 0.18780213 0.19048215\n",
            " 0.17880584 0.17541391 0.17109491 0.16702974 0.16344279 0.16032678\n",
            " 0.15760127 0.15515913 0.15289368 0.15071499 0.14855802 0.14638469\n",
            " 0.14418152 0.14195451 0.13972244 0.13751028 0.13534352 0.13324402\n",
            " 0.13122773 0.12930396 0.12747595 0.12574193 0.12409683 0.1225336\n",
            " 0.12104461 0.11962241 0.11826044 0.11695322 0.11569646 0.11448681\n",
            " 0.11332185 0.11219966 0.11111881 0.11007797 0.10907599 0.10811167\n",
            " 0.10718381 0.10629117 0.10543251 0.10460654 0.10381204 0.10304777\n",
            " 0.10231259 0.10160542 0.10092517 0.10027086 0.09964156 0.09903639\n",
            " 0.09845445 0.09789494 0.09735704 0.09683998 0.096343   0.09586536\n",
            " 0.09540632 0.09496524 0.0945414  0.09413414 0.09374286 0.09336691\n",
            " 0.09300571 0.09265869 0.09232531 0.09200504 0.09169736 0.0914018\n",
            " 0.09111786 0.09084512 0.09058315 0.09033148 0.09008975 0.08985758\n",
            " 0.08963455 0.08942035 0.08921462 0.089017  ]\n",
            "16 day output [[0.08882721]]\n",
            "17 day input [0.18071384 0.17921102 0.18274264 0.18502192 0.18036318 0.18003757\n",
            " 0.1761052  0.17282405 0.17187226 0.16541014 0.16571071 0.16681277\n",
            " 0.16095178 0.15040701 0.15373826 0.15892298 0.16012523 0.16814026\n",
            " 0.17715717 0.17485285 0.18131497 0.18780213 0.19048215 0.17880584\n",
            " 0.17541391 0.17109491 0.16702974 0.16344279 0.16032678 0.15760127\n",
            " 0.15515913 0.15289368 0.15071499 0.14855802 0.14638469 0.14418152\n",
            " 0.14195451 0.13972244 0.13751028 0.13534352 0.13324402 0.13122773\n",
            " 0.12930396 0.12747595 0.12574193 0.12409683 0.1225336  0.12104461\n",
            " 0.11962241 0.11826044 0.11695322 0.11569646 0.11448681 0.11332185\n",
            " 0.11219966 0.11111881 0.11007797 0.10907599 0.10811167 0.10718381\n",
            " 0.10629117 0.10543251 0.10460654 0.10381204 0.10304777 0.10231259\n",
            " 0.10160542 0.10092517 0.10027086 0.09964156 0.09903639 0.09845445\n",
            " 0.09789494 0.09735704 0.09683998 0.096343   0.09586536 0.09540632\n",
            " 0.09496524 0.0945414  0.09413414 0.09374286 0.09336691 0.09300571\n",
            " 0.09265869 0.09232531 0.09200504 0.09169736 0.0914018  0.09111786\n",
            " 0.09084512 0.09058315 0.09033148 0.09008975 0.08985758 0.08963455\n",
            " 0.08942035 0.08921462 0.089017   0.08882721]\n",
            "17 day output [[0.08864494]]\n",
            "18 day input [0.17921102 0.18274264 0.18502192 0.18036318 0.18003757 0.1761052\n",
            " 0.17282405 0.17187226 0.16541014 0.16571071 0.16681277 0.16095178\n",
            " 0.15040701 0.15373826 0.15892298 0.16012523 0.16814026 0.17715717\n",
            " 0.17485285 0.18131497 0.18780213 0.19048215 0.17880584 0.17541391\n",
            " 0.17109491 0.16702974 0.16344279 0.16032678 0.15760127 0.15515913\n",
            " 0.15289368 0.15071499 0.14855802 0.14638469 0.14418152 0.14195451\n",
            " 0.13972244 0.13751028 0.13534352 0.13324402 0.13122773 0.12930396\n",
            " 0.12747595 0.12574193 0.12409683 0.1225336  0.12104461 0.11962241\n",
            " 0.11826044 0.11695322 0.11569646 0.11448681 0.11332185 0.11219966\n",
            " 0.11111881 0.11007797 0.10907599 0.10811167 0.10718381 0.10629117\n",
            " 0.10543251 0.10460654 0.10381204 0.10304777 0.10231259 0.10160542\n",
            " 0.10092517 0.10027086 0.09964156 0.09903639 0.09845445 0.09789494\n",
            " 0.09735704 0.09683998 0.096343   0.09586536 0.09540632 0.09496524\n",
            " 0.0945414  0.09413414 0.09374286 0.09336691 0.09300571 0.09265869\n",
            " 0.09232531 0.09200504 0.09169736 0.0914018  0.09111786 0.09084512\n",
            " 0.09058315 0.09033148 0.09008975 0.08985758 0.08963455 0.08942035\n",
            " 0.08921462 0.089017   0.08882721 0.08864494]\n",
            "18 day output [[0.08846986]]\n",
            "19 day input [0.18274264 0.18502192 0.18036318 0.18003757 0.1761052  0.17282405\n",
            " 0.17187226 0.16541014 0.16571071 0.16681277 0.16095178 0.15040701\n",
            " 0.15373826 0.15892298 0.16012523 0.16814026 0.17715717 0.17485285\n",
            " 0.18131497 0.18780213 0.19048215 0.17880584 0.17541391 0.17109491\n",
            " 0.16702974 0.16344279 0.16032678 0.15760127 0.15515913 0.15289368\n",
            " 0.15071499 0.14855802 0.14638469 0.14418152 0.14195451 0.13972244\n",
            " 0.13751028 0.13534352 0.13324402 0.13122773 0.12930396 0.12747595\n",
            " 0.12574193 0.12409683 0.1225336  0.12104461 0.11962241 0.11826044\n",
            " 0.11695322 0.11569646 0.11448681 0.11332185 0.11219966 0.11111881\n",
            " 0.11007797 0.10907599 0.10811167 0.10718381 0.10629117 0.10543251\n",
            " 0.10460654 0.10381204 0.10304777 0.10231259 0.10160542 0.10092517\n",
            " 0.10027086 0.09964156 0.09903639 0.09845445 0.09789494 0.09735704\n",
            " 0.09683998 0.096343   0.09586536 0.09540632 0.09496524 0.0945414\n",
            " 0.09413414 0.09374286 0.09336691 0.09300571 0.09265869 0.09232531\n",
            " 0.09200504 0.09169736 0.0914018  0.09111786 0.09084512 0.09058315\n",
            " 0.09033148 0.09008975 0.08985758 0.08963455 0.08942035 0.08921462\n",
            " 0.089017   0.08882721 0.08864494 0.08846986]\n",
            "19 day output [[0.08830172]]\n",
            "20 day input [0.18502192 0.18036318 0.18003757 0.1761052  0.17282405 0.17187226\n",
            " 0.16541014 0.16571071 0.16681277 0.16095178 0.15040701 0.15373826\n",
            " 0.15892298 0.16012523 0.16814026 0.17715717 0.17485285 0.18131497\n",
            " 0.18780213 0.19048215 0.17880584 0.17541391 0.17109491 0.16702974\n",
            " 0.16344279 0.16032678 0.15760127 0.15515913 0.15289368 0.15071499\n",
            " 0.14855802 0.14638469 0.14418152 0.14195451 0.13972244 0.13751028\n",
            " 0.13534352 0.13324402 0.13122773 0.12930396 0.12747595 0.12574193\n",
            " 0.12409683 0.1225336  0.12104461 0.11962241 0.11826044 0.11695322\n",
            " 0.11569646 0.11448681 0.11332185 0.11219966 0.11111881 0.11007797\n",
            " 0.10907599 0.10811167 0.10718381 0.10629117 0.10543251 0.10460654\n",
            " 0.10381204 0.10304777 0.10231259 0.10160542 0.10092517 0.10027086\n",
            " 0.09964156 0.09903639 0.09845445 0.09789494 0.09735704 0.09683998\n",
            " 0.096343   0.09586536 0.09540632 0.09496524 0.0945414  0.09413414\n",
            " 0.09374286 0.09336691 0.09300571 0.09265869 0.09232531 0.09200504\n",
            " 0.09169736 0.0914018  0.09111786 0.09084512 0.09058315 0.09033148\n",
            " 0.09008975 0.08985758 0.08963455 0.08942035 0.08921462 0.089017\n",
            " 0.08882721 0.08864494 0.08846986 0.08830172]\n",
            "20 day output [[0.08814025]]\n",
            "21 day input [0.18036318 0.18003757 0.1761052  0.17282405 0.17187226 0.16541014\n",
            " 0.16571071 0.16681277 0.16095178 0.15040701 0.15373826 0.15892298\n",
            " 0.16012523 0.16814026 0.17715717 0.17485285 0.18131497 0.18780213\n",
            " 0.19048215 0.17880584 0.17541391 0.17109491 0.16702974 0.16344279\n",
            " 0.16032678 0.15760127 0.15515913 0.15289368 0.15071499 0.14855802\n",
            " 0.14638469 0.14418152 0.14195451 0.13972244 0.13751028 0.13534352\n",
            " 0.13324402 0.13122773 0.12930396 0.12747595 0.12574193 0.12409683\n",
            " 0.1225336  0.12104461 0.11962241 0.11826044 0.11695322 0.11569646\n",
            " 0.11448681 0.11332185 0.11219966 0.11111881 0.11007797 0.10907599\n",
            " 0.10811167 0.10718381 0.10629117 0.10543251 0.10460654 0.10381204\n",
            " 0.10304777 0.10231259 0.10160542 0.10092517 0.10027086 0.09964156\n",
            " 0.09903639 0.09845445 0.09789494 0.09735704 0.09683998 0.096343\n",
            " 0.09586536 0.09540632 0.09496524 0.0945414  0.09413414 0.09374286\n",
            " 0.09336691 0.09300571 0.09265869 0.09232531 0.09200504 0.09169736\n",
            " 0.0914018  0.09111786 0.09084512 0.09058315 0.09033148 0.09008975\n",
            " 0.08985758 0.08963455 0.08942035 0.08921462 0.089017   0.08882721\n",
            " 0.08864494 0.08846986 0.08830172 0.08814025]\n",
            "21 day output [[0.08798516]]\n",
            "22 day input [0.18003757 0.1761052  0.17282405 0.17187226 0.16541014 0.16571071\n",
            " 0.16681277 0.16095178 0.15040701 0.15373826 0.15892298 0.16012523\n",
            " 0.16814026 0.17715717 0.17485285 0.18131497 0.18780213 0.19048215\n",
            " 0.17880584 0.17541391 0.17109491 0.16702974 0.16344279 0.16032678\n",
            " 0.15760127 0.15515913 0.15289368 0.15071499 0.14855802 0.14638469\n",
            " 0.14418152 0.14195451 0.13972244 0.13751028 0.13534352 0.13324402\n",
            " 0.13122773 0.12930396 0.12747595 0.12574193 0.12409683 0.1225336\n",
            " 0.12104461 0.11962241 0.11826044 0.11695322 0.11569646 0.11448681\n",
            " 0.11332185 0.11219966 0.11111881 0.11007797 0.10907599 0.10811167\n",
            " 0.10718381 0.10629117 0.10543251 0.10460654 0.10381204 0.10304777\n",
            " 0.10231259 0.10160542 0.10092517 0.10027086 0.09964156 0.09903639\n",
            " 0.09845445 0.09789494 0.09735704 0.09683998 0.096343   0.09586536\n",
            " 0.09540632 0.09496524 0.0945414  0.09413414 0.09374286 0.09336691\n",
            " 0.09300571 0.09265869 0.09232531 0.09200504 0.09169736 0.0914018\n",
            " 0.09111786 0.09084512 0.09058315 0.09033148 0.09008975 0.08985758\n",
            " 0.08963455 0.08942035 0.08921462 0.089017   0.08882721 0.08864494\n",
            " 0.08846986 0.08830172 0.08814025 0.08798516]\n",
            "22 day output [[0.08783622]]\n",
            "23 day input [0.1761052  0.17282405 0.17187226 0.16541014 0.16571071 0.16681277\n",
            " 0.16095178 0.15040701 0.15373826 0.15892298 0.16012523 0.16814026\n",
            " 0.17715717 0.17485285 0.18131497 0.18780213 0.19048215 0.17880584\n",
            " 0.17541391 0.17109491 0.16702974 0.16344279 0.16032678 0.15760127\n",
            " 0.15515913 0.15289368 0.15071499 0.14855802 0.14638469 0.14418152\n",
            " 0.14195451 0.13972244 0.13751028 0.13534352 0.13324402 0.13122773\n",
            " 0.12930396 0.12747595 0.12574193 0.12409683 0.1225336  0.12104461\n",
            " 0.11962241 0.11826044 0.11695322 0.11569646 0.11448681 0.11332185\n",
            " 0.11219966 0.11111881 0.11007797 0.10907599 0.10811167 0.10718381\n",
            " 0.10629117 0.10543251 0.10460654 0.10381204 0.10304777 0.10231259\n",
            " 0.10160542 0.10092517 0.10027086 0.09964156 0.09903639 0.09845445\n",
            " 0.09789494 0.09735704 0.09683998 0.096343   0.09586536 0.09540632\n",
            " 0.09496524 0.0945414  0.09413414 0.09374286 0.09336691 0.09300571\n",
            " 0.09265869 0.09232531 0.09200504 0.09169736 0.0914018  0.09111786\n",
            " 0.09084512 0.09058315 0.09033148 0.09008975 0.08985758 0.08963455\n",
            " 0.08942035 0.08921462 0.089017   0.08882721 0.08864494 0.08846986\n",
            " 0.08830172 0.08814025 0.08798516 0.08783622]\n",
            "23 day output [[0.08769318]]\n",
            "24 day input [0.17282405 0.17187226 0.16541014 0.16571071 0.16681277 0.16095178\n",
            " 0.15040701 0.15373826 0.15892298 0.16012523 0.16814026 0.17715717\n",
            " 0.17485285 0.18131497 0.18780213 0.19048215 0.17880584 0.17541391\n",
            " 0.17109491 0.16702974 0.16344279 0.16032678 0.15760127 0.15515913\n",
            " 0.15289368 0.15071499 0.14855802 0.14638469 0.14418152 0.14195451\n",
            " 0.13972244 0.13751028 0.13534352 0.13324402 0.13122773 0.12930396\n",
            " 0.12747595 0.12574193 0.12409683 0.1225336  0.12104461 0.11962241\n",
            " 0.11826044 0.11695322 0.11569646 0.11448681 0.11332185 0.11219966\n",
            " 0.11111881 0.11007797 0.10907599 0.10811167 0.10718381 0.10629117\n",
            " 0.10543251 0.10460654 0.10381204 0.10304777 0.10231259 0.10160542\n",
            " 0.10092517 0.10027086 0.09964156 0.09903639 0.09845445 0.09789494\n",
            " 0.09735704 0.09683998 0.096343   0.09586536 0.09540632 0.09496524\n",
            " 0.0945414  0.09413414 0.09374286 0.09336691 0.09300571 0.09265869\n",
            " 0.09232531 0.09200504 0.09169736 0.0914018  0.09111786 0.09084512\n",
            " 0.09058315 0.09033148 0.09008975 0.08985758 0.08963455 0.08942035\n",
            " 0.08921462 0.089017   0.08882721 0.08864494 0.08846986 0.08830172\n",
            " 0.08814025 0.08798516 0.08783622 0.08769318]\n",
            "24 day output [[0.08755583]]\n",
            "25 day input [0.17187226 0.16541014 0.16571071 0.16681277 0.16095178 0.15040701\n",
            " 0.15373826 0.15892298 0.16012523 0.16814026 0.17715717 0.17485285\n",
            " 0.18131497 0.18780213 0.19048215 0.17880584 0.17541391 0.17109491\n",
            " 0.16702974 0.16344279 0.16032678 0.15760127 0.15515913 0.15289368\n",
            " 0.15071499 0.14855802 0.14638469 0.14418152 0.14195451 0.13972244\n",
            " 0.13751028 0.13534352 0.13324402 0.13122773 0.12930396 0.12747595\n",
            " 0.12574193 0.12409683 0.1225336  0.12104461 0.11962241 0.11826044\n",
            " 0.11695322 0.11569646 0.11448681 0.11332185 0.11219966 0.11111881\n",
            " 0.11007797 0.10907599 0.10811167 0.10718381 0.10629117 0.10543251\n",
            " 0.10460654 0.10381204 0.10304777 0.10231259 0.10160542 0.10092517\n",
            " 0.10027086 0.09964156 0.09903639 0.09845445 0.09789494 0.09735704\n",
            " 0.09683998 0.096343   0.09586536 0.09540632 0.09496524 0.0945414\n",
            " 0.09413414 0.09374286 0.09336691 0.09300571 0.09265869 0.09232531\n",
            " 0.09200504 0.09169736 0.0914018  0.09111786 0.09084512 0.09058315\n",
            " 0.09033148 0.09008975 0.08985758 0.08963455 0.08942035 0.08921462\n",
            " 0.089017   0.08882721 0.08864494 0.08846986 0.08830172 0.08814025\n",
            " 0.08798516 0.08783622 0.08769318 0.08755583]\n",
            "25 day output [[0.08742393]]\n",
            "26 day input [0.16541014 0.16571071 0.16681277 0.16095178 0.15040701 0.15373826\n",
            " 0.15892298 0.16012523 0.16814026 0.17715717 0.17485285 0.18131497\n",
            " 0.18780213 0.19048215 0.17880584 0.17541391 0.17109491 0.16702974\n",
            " 0.16344279 0.16032678 0.15760127 0.15515913 0.15289368 0.15071499\n",
            " 0.14855802 0.14638469 0.14418152 0.14195451 0.13972244 0.13751028\n",
            " 0.13534352 0.13324402 0.13122773 0.12930396 0.12747595 0.12574193\n",
            " 0.12409683 0.1225336  0.12104461 0.11962241 0.11826044 0.11695322\n",
            " 0.11569646 0.11448681 0.11332185 0.11219966 0.11111881 0.11007797\n",
            " 0.10907599 0.10811167 0.10718381 0.10629117 0.10543251 0.10460654\n",
            " 0.10381204 0.10304777 0.10231259 0.10160542 0.10092517 0.10027086\n",
            " 0.09964156 0.09903639 0.09845445 0.09789494 0.09735704 0.09683998\n",
            " 0.096343   0.09586536 0.09540632 0.09496524 0.0945414  0.09413414\n",
            " 0.09374286 0.09336691 0.09300571 0.09265869 0.09232531 0.09200504\n",
            " 0.09169736 0.0914018  0.09111786 0.09084512 0.09058315 0.09033148\n",
            " 0.09008975 0.08985758 0.08963455 0.08942035 0.08921462 0.089017\n",
            " 0.08882721 0.08864494 0.08846986 0.08830172 0.08814025 0.08798516\n",
            " 0.08783622 0.08769318 0.08755583 0.08742393]\n",
            "26 day output [[0.08729725]]\n",
            "27 day input [0.16571071 0.16681277 0.16095178 0.15040701 0.15373826 0.15892298\n",
            " 0.16012523 0.16814026 0.17715717 0.17485285 0.18131497 0.18780213\n",
            " 0.19048215 0.17880584 0.17541391 0.17109491 0.16702974 0.16344279\n",
            " 0.16032678 0.15760127 0.15515913 0.15289368 0.15071499 0.14855802\n",
            " 0.14638469 0.14418152 0.14195451 0.13972244 0.13751028 0.13534352\n",
            " 0.13324402 0.13122773 0.12930396 0.12747595 0.12574193 0.12409683\n",
            " 0.1225336  0.12104461 0.11962241 0.11826044 0.11695322 0.11569646\n",
            " 0.11448681 0.11332185 0.11219966 0.11111881 0.11007797 0.10907599\n",
            " 0.10811167 0.10718381 0.10629117 0.10543251 0.10460654 0.10381204\n",
            " 0.10304777 0.10231259 0.10160542 0.10092517 0.10027086 0.09964156\n",
            " 0.09903639 0.09845445 0.09789494 0.09735704 0.09683998 0.096343\n",
            " 0.09586536 0.09540632 0.09496524 0.0945414  0.09413414 0.09374286\n",
            " 0.09336691 0.09300571 0.09265869 0.09232531 0.09200504 0.09169736\n",
            " 0.0914018  0.09111786 0.09084512 0.09058315 0.09033148 0.09008975\n",
            " 0.08985758 0.08963455 0.08942035 0.08921462 0.089017   0.08882721\n",
            " 0.08864494 0.08846986 0.08830172 0.08814025 0.08798516 0.08783622\n",
            " 0.08769318 0.08755583 0.08742393 0.08729725]\n",
            "27 day output [[0.08717562]]\n",
            "28 day input [0.16681277 0.16095178 0.15040701 0.15373826 0.15892298 0.16012523\n",
            " 0.16814026 0.17715717 0.17485285 0.18131497 0.18780213 0.19048215\n",
            " 0.17880584 0.17541391 0.17109491 0.16702974 0.16344279 0.16032678\n",
            " 0.15760127 0.15515913 0.15289368 0.15071499 0.14855802 0.14638469\n",
            " 0.14418152 0.14195451 0.13972244 0.13751028 0.13534352 0.13324402\n",
            " 0.13122773 0.12930396 0.12747595 0.12574193 0.12409683 0.1225336\n",
            " 0.12104461 0.11962241 0.11826044 0.11695322 0.11569646 0.11448681\n",
            " 0.11332185 0.11219966 0.11111881 0.11007797 0.10907599 0.10811167\n",
            " 0.10718381 0.10629117 0.10543251 0.10460654 0.10381204 0.10304777\n",
            " 0.10231259 0.10160542 0.10092517 0.10027086 0.09964156 0.09903639\n",
            " 0.09845445 0.09789494 0.09735704 0.09683998 0.096343   0.09586536\n",
            " 0.09540632 0.09496524 0.0945414  0.09413414 0.09374286 0.09336691\n",
            " 0.09300571 0.09265869 0.09232531 0.09200504 0.09169736 0.0914018\n",
            " 0.09111786 0.09084512 0.09058315 0.09033148 0.09008975 0.08985758\n",
            " 0.08963455 0.08942035 0.08921462 0.089017   0.08882721 0.08864494\n",
            " 0.08846986 0.08830172 0.08814025 0.08798516 0.08783622 0.08769318\n",
            " 0.08755583 0.08742393 0.08729725 0.08717562]\n",
            "28 day output [[0.08705881]]\n",
            "29 day input [0.16095178 0.15040701 0.15373826 0.15892298 0.16012523 0.16814026\n",
            " 0.17715717 0.17485285 0.18131497 0.18780213 0.19048215 0.17880584\n",
            " 0.17541391 0.17109491 0.16702974 0.16344279 0.16032678 0.15760127\n",
            " 0.15515913 0.15289368 0.15071499 0.14855802 0.14638469 0.14418152\n",
            " 0.14195451 0.13972244 0.13751028 0.13534352 0.13324402 0.13122773\n",
            " 0.12930396 0.12747595 0.12574193 0.12409683 0.1225336  0.12104461\n",
            " 0.11962241 0.11826044 0.11695322 0.11569646 0.11448681 0.11332185\n",
            " 0.11219966 0.11111881 0.11007797 0.10907599 0.10811167 0.10718381\n",
            " 0.10629117 0.10543251 0.10460654 0.10381204 0.10304777 0.10231259\n",
            " 0.10160542 0.10092517 0.10027086 0.09964156 0.09903639 0.09845445\n",
            " 0.09789494 0.09735704 0.09683998 0.096343   0.09586536 0.09540632\n",
            " 0.09496524 0.0945414  0.09413414 0.09374286 0.09336691 0.09300571\n",
            " 0.09265869 0.09232531 0.09200504 0.09169736 0.0914018  0.09111786\n",
            " 0.09084512 0.09058315 0.09033148 0.09008975 0.08985758 0.08963455\n",
            " 0.08942035 0.08921462 0.089017   0.08882721 0.08864494 0.08846986\n",
            " 0.08830172 0.08814025 0.08798516 0.08783622 0.08769318 0.08755583\n",
            " 0.08742393 0.08729725 0.08717562 0.08705881]\n",
            "29 day output [[0.08694665]]\n",
            "[[0.0930057093501091], [0.09265869110822678], [0.09232531487941742], [0.09200504422187805], [0.09169735759496689], [0.09140180051326752], [0.09111785888671875], [0.09084512293338776], [0.09058314561843872], [0.09033147990703583], [0.09008975327014923], [0.08985757827758789], [0.08963455259799957], [0.08942034840583801], [0.08921461552381516], [0.08901700377464294], [0.0888272076845169], [0.08864493668079376], [0.08846985548734665], [0.08830171823501587], [0.08814024925231934], [0.08798515796661377], [0.08783622086048126], [0.08769318461418152], [0.08755582571029663], [0.08742392808198929], [0.08729725331068039], [0.08717562258243561], [0.08705881237983704], [0.08694665133953094]]\n"
          ]
        }
      ]
    },
    {
      "cell_type": "code",
      "source": [
        "day_new=np.arange(1,101)\n",
        "day_pred=np.arange(101,131)"
      ],
      "metadata": {
        "id": "9AFJIfVWXf6z"
      },
      "execution_count": 67,
      "outputs": []
    },
    {
      "cell_type": "code",
      "source": [
        "len(df1)"
      ],
      "metadata": {
        "colab": {
          "base_uri": "https://localhost:8080/"
        },
        "id": "gYdeZKqddbn3",
        "outputId": "bab2e2e3-edcc-42f1-cd0b-a0d2c77a0b9f"
      },
      "execution_count": 68,
      "outputs": [
        {
          "output_type": "execute_result",
          "data": {
            "text/plain": [
              "1256"
            ]
          },
          "metadata": {},
          "execution_count": 68
        }
      ]
    },
    {
      "cell_type": "code",
      "source": [
        "plt.plot(day_new,scaler.inverse_transform(df1[1156:]))\n",
        "plt.plot(day_pred,scaler.inverse_transform(list_output))"
      ],
      "metadata": {
        "colab": {
          "base_uri": "https://localhost:8080/",
          "height": 448
        },
        "id": "G80Wo7X5XFgJ",
        "outputId": "e6fb9b4b-0533-480e-b656-a529257da49e"
      },
      "execution_count": 69,
      "outputs": [
        {
          "output_type": "execute_result",
          "data": {
            "text/plain": [
              "[<matplotlib.lines.Line2D at 0x7e8b8c9d2140>]"
            ]
          },
          "metadata": {},
          "execution_count": 69
        },
        {
          "output_type": "display_data",
          "data": {
            "text/plain": [
              "<Figure size 640x480 with 1 Axes>"
            ],
            "image/png": "[encoded data removed]"
          },
          "metadata": {}
        }
      ]
    },
    {
      "cell_type": "code",
      "source": [
        "df3=df1.tolist()\n",
        "df3.extend(list_output)\n",
        "plt.plot(df3[1200:])"
      ],
      "metadata": {
        "colab": {
          "base_uri": "https://localhost:8080/",
          "height": 448
        },
        "id": "U2N2TCqpdhiX",
        "outputId": "24bea1df-e149-4f7b-e6f8-1cafad1588f6"
      },
      "execution_count": 70,
      "outputs": [
        {
          "output_type": "execute_result",
          "data": {
            "text/plain": [
              "[<matplotlib.lines.Line2D at 0x7e8b8cbc0040>]"
            ]
          },
          "metadata": {},
          "execution_count": 70
        },
        {
          "output_type": "display_data",
          "data": {
            "text/plain": [
              "<Figure size 640x480 with 1 Axes>"
            ],
            "image/png": "[encoded data removed]"
          },
          "metadata": {}
        }
      ]
    },
    {
      "cell_type": "code",
      "source": [
        "df3=scaler.inverse_transform(df3).tolist()\n",
        "plt.plot(df3)"
      ],
      "metadata": {
        "colab": {
          "base_uri": "https://localhost:8080/",
          "height": 448
        },
        "id": "qk1fCkvadjva",
        "outputId": "4dc70106-2c46-44c3-cab0-5e34d5f52c47"
      },
      "execution_count": 71,
      "outputs": [
        {
          "output_type": "execute_result",
          "data": {
            "text/plain": [
              "[<matplotlib.lines.Line2D at 0x7e8b8c825e70>]"
            ]
          },
          "metadata": {},
          "execution_count": 71
        },
        {
          "output_type": "display_data",
          "data": {
            "text/plain": [
              "<Figure size 640x480 with 1 Axes>"
            ],
            "image/png": "[encoded data removed]"
          },
          "metadata": {}
        }
      ]
    }
  ]
}